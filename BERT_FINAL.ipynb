{
  "nbformat": 4,
  "nbformat_minor": 0,
  "metadata": {
    "colab": {
      "provenance": [],
      "gpuType": "A100",
      "machine_shape": "hm"
    },
    "kernelspec": {
      "name": "python3",
      "display_name": "Python 3"
    },
    "language_info": {
      "name": "python"
    },
    "accelerator": "GPU",
    "widgets": {
      "application/vnd.jupyter.widget-state+json": {
        "2676be5ed8fc40e4be7dc7cbe7c1a9be": {
          "model_module": "@jupyter-widgets/controls",
          "model_name": "HBoxModel",
          "model_module_version": "1.5.0",
          "state": {
            "_dom_classes": [],
            "_model_module": "@jupyter-widgets/controls",
            "_model_module_version": "1.5.0",
            "_model_name": "HBoxModel",
            "_view_count": null,
            "_view_module": "@jupyter-widgets/controls",
            "_view_module_version": "1.5.0",
            "_view_name": "HBoxView",
            "box_style": "",
            "children": [
              "IPY_MODEL_6cf428c6817b436797850aa2a45e2682",
              "IPY_MODEL_fb09dd3aced447cb85691fd21fe01c24",
              "IPY_MODEL_54040aaa1c094b65a22b63e96cd57d32"
            ],
            "layout": "IPY_MODEL_93c5092572304817966fce85ed96aa7d"
          }
        },
        "6cf428c6817b436797850aa2a45e2682": {
          "model_module": "@jupyter-widgets/controls",
          "model_name": "HTMLModel",
          "model_module_version": "1.5.0",
          "state": {
            "_dom_classes": [],
            "_model_module": "@jupyter-widgets/controls",
            "_model_module_version": "1.5.0",
            "_model_name": "HTMLModel",
            "_view_count": null,
            "_view_module": "@jupyter-widgets/controls",
            "_view_module_version": "1.5.0",
            "_view_name": "HTMLView",
            "description": "",
            "description_tooltip": null,
            "layout": "IPY_MODEL_7ebb8a9bb3904dd9b28aeb6a4a0a0cd9",
            "placeholder": "​",
            "style": "IPY_MODEL_1c9faed2a0d34ed4a7f125fc938cab41",
            "value": "tokenizer_config.json: 100%"
          }
        },
        "fb09dd3aced447cb85691fd21fe01c24": {
          "model_module": "@jupyter-widgets/controls",
          "model_name": "FloatProgressModel",
          "model_module_version": "1.5.0",
          "state": {
            "_dom_classes": [],
            "_model_module": "@jupyter-widgets/controls",
            "_model_module_version": "1.5.0",
            "_model_name": "FloatProgressModel",
            "_view_count": null,
            "_view_module": "@jupyter-widgets/controls",
            "_view_module_version": "1.5.0",
            "_view_name": "ProgressView",
            "bar_style": "success",
            "description": "",
            "description_tooltip": null,
            "layout": "IPY_MODEL_933b9d5ff7d54d04bce43e987c11e4c9",
            "max": 48,
            "min": 0,
            "orientation": "horizontal",
            "style": "IPY_MODEL_10517af530fe4e62996cbc30e28a5094",
            "value": 48
          }
        },
        "54040aaa1c094b65a22b63e96cd57d32": {
          "model_module": "@jupyter-widgets/controls",
          "model_name": "HTMLModel",
          "model_module_version": "1.5.0",
          "state": {
            "_dom_classes": [],
            "_model_module": "@jupyter-widgets/controls",
            "_model_module_version": "1.5.0",
            "_model_name": "HTMLModel",
            "_view_count": null,
            "_view_module": "@jupyter-widgets/controls",
            "_view_module_version": "1.5.0",
            "_view_name": "HTMLView",
            "description": "",
            "description_tooltip": null,
            "layout": "IPY_MODEL_5cc386c9b3b243d4aa1a56a117eac333",
            "placeholder": "​",
            "style": "IPY_MODEL_b801c0f7dbf44e51adedb452b2869e65",
            "value": " 48.0/48.0 [00:00&lt;00:00, 3.97kB/s]"
          }
        },
        "93c5092572304817966fce85ed96aa7d": {
          "model_module": "@jupyter-widgets/base",
          "model_name": "LayoutModel",
          "model_module_version": "1.2.0",
          "state": {
            "_model_module": "@jupyter-widgets/base",
            "_model_module_version": "1.2.0",
            "_model_name": "LayoutModel",
            "_view_count": null,
            "_view_module": "@jupyter-widgets/base",
            "_view_module_version": "1.2.0",
            "_view_name": "LayoutView",
            "align_content": null,
            "align_items": null,
            "align_self": null,
            "border": null,
            "bottom": null,
            "display": null,
            "flex": null,
            "flex_flow": null,
            "grid_area": null,
            "grid_auto_columns": null,
            "grid_auto_flow": null,
            "grid_auto_rows": null,
            "grid_column": null,
            "grid_gap": null,
            "grid_row": null,
            "grid_template_areas": null,
            "grid_template_columns": null,
            "grid_template_rows": null,
            "height": null,
            "justify_content": null,
            "justify_items": null,
            "left": null,
            "margin": null,
            "max_height": null,
            "max_width": null,
            "min_height": null,
            "min_width": null,
            "object_fit": null,
            "object_position": null,
            "order": null,
            "overflow": null,
            "overflow_x": null,
            "overflow_y": null,
            "padding": null,
            "right": null,
            "top": null,
            "visibility": null,
            "width": null
          }
        },
        "7ebb8a9bb3904dd9b28aeb6a4a0a0cd9": {
          "model_module": "@jupyter-widgets/base",
          "model_name": "LayoutModel",
          "model_module_version": "1.2.0",
          "state": {
            "_model_module": "@jupyter-widgets/base",
            "_model_module_version": "1.2.0",
            "_model_name": "LayoutModel",
            "_view_count": null,
            "_view_module": "@jupyter-widgets/base",
            "_view_module_version": "1.2.0",
            "_view_name": "LayoutView",
            "align_content": null,
            "align_items": null,
            "align_self": null,
            "border": null,
            "bottom": null,
            "display": null,
            "flex": null,
            "flex_flow": null,
            "grid_area": null,
            "grid_auto_columns": null,
            "grid_auto_flow": null,
            "grid_auto_rows": null,
            "grid_column": null,
            "grid_gap": null,
            "grid_row": null,
            "grid_template_areas": null,
            "grid_template_columns": null,
            "grid_template_rows": null,
            "height": null,
            "justify_content": null,
            "justify_items": null,
            "left": null,
            "margin": null,
            "max_height": null,
            "max_width": null,
            "min_height": null,
            "min_width": null,
            "object_fit": null,
            "object_position": null,
            "order": null,
            "overflow": null,
            "overflow_x": null,
            "overflow_y": null,
            "padding": null,
            "right": null,
            "top": null,
            "visibility": null,
            "width": null
          }
        },
        "1c9faed2a0d34ed4a7f125fc938cab41": {
          "model_module": "@jupyter-widgets/controls",
          "model_name": "DescriptionStyleModel",
          "model_module_version": "1.5.0",
          "state": {
            "_model_module": "@jupyter-widgets/controls",
            "_model_module_version": "1.5.0",
            "_model_name": "DescriptionStyleModel",
            "_view_count": null,
            "_view_module": "@jupyter-widgets/base",
            "_view_module_version": "1.2.0",
            "_view_name": "StyleView",
            "description_width": ""
          }
        },
        "933b9d5ff7d54d04bce43e987c11e4c9": {
          "model_module": "@jupyter-widgets/base",
          "model_name": "LayoutModel",
          "model_module_version": "1.2.0",
          "state": {
            "_model_module": "@jupyter-widgets/base",
            "_model_module_version": "1.2.0",
            "_model_name": "LayoutModel",
            "_view_count": null,
            "_view_module": "@jupyter-widgets/base",
            "_view_module_version": "1.2.0",
            "_view_name": "LayoutView",
            "align_content": null,
            "align_items": null,
            "align_self": null,
            "border": null,
            "bottom": null,
            "display": null,
            "flex": null,
            "flex_flow": null,
            "grid_area": null,
            "grid_auto_columns": null,
            "grid_auto_flow": null,
            "grid_auto_rows": null,
            "grid_column": null,
            "grid_gap": null,
            "grid_row": null,
            "grid_template_areas": null,
            "grid_template_columns": null,
            "grid_template_rows": null,
            "height": null,
            "justify_content": null,
            "justify_items": null,
            "left": null,
            "margin": null,
            "max_height": null,
            "max_width": null,
            "min_height": null,
            "min_width": null,
            "object_fit": null,
            "object_position": null,
            "order": null,
            "overflow": null,
            "overflow_x": null,
            "overflow_y": null,
            "padding": null,
            "right": null,
            "top": null,
            "visibility": null,
            "width": null
          }
        },
        "10517af530fe4e62996cbc30e28a5094": {
          "model_module": "@jupyter-widgets/controls",
          "model_name": "ProgressStyleModel",
          "model_module_version": "1.5.0",
          "state": {
            "_model_module": "@jupyter-widgets/controls",
            "_model_module_version": "1.5.0",
            "_model_name": "ProgressStyleModel",
            "_view_count": null,
            "_view_module": "@jupyter-widgets/base",
            "_view_module_version": "1.2.0",
            "_view_name": "StyleView",
            "bar_color": null,
            "description_width": ""
          }
        },
        "5cc386c9b3b243d4aa1a56a117eac333": {
          "model_module": "@jupyter-widgets/base",
          "model_name": "LayoutModel",
          "model_module_version": "1.2.0",
          "state": {
            "_model_module": "@jupyter-widgets/base",
            "_model_module_version": "1.2.0",
            "_model_name": "LayoutModel",
            "_view_count": null,
            "_view_module": "@jupyter-widgets/base",
            "_view_module_version": "1.2.0",
            "_view_name": "LayoutView",
            "align_content": null,
            "align_items": null,
            "align_self": null,
            "border": null,
            "bottom": null,
            "display": null,
            "flex": null,
            "flex_flow": null,
            "grid_area": null,
            "grid_auto_columns": null,
            "grid_auto_flow": null,
            "grid_auto_rows": null,
            "grid_column": null,
            "grid_gap": null,
            "grid_row": null,
            "grid_template_areas": null,
            "grid_template_columns": null,
            "grid_template_rows": null,
            "height": null,
            "justify_content": null,
            "justify_items": null,
            "left": null,
            "margin": null,
            "max_height": null,
            "max_width": null,
            "min_height": null,
            "min_width": null,
            "object_fit": null,
            "object_position": null,
            "order": null,
            "overflow": null,
            "overflow_x": null,
            "overflow_y": null,
            "padding": null,
            "right": null,
            "top": null,
            "visibility": null,
            "width": null
          }
        },
        "b801c0f7dbf44e51adedb452b2869e65": {
          "model_module": "@jupyter-widgets/controls",
          "model_name": "DescriptionStyleModel",
          "model_module_version": "1.5.0",
          "state": {
            "_model_module": "@jupyter-widgets/controls",
            "_model_module_version": "1.5.0",
            "_model_name": "DescriptionStyleModel",
            "_view_count": null,
            "_view_module": "@jupyter-widgets/base",
            "_view_module_version": "1.2.0",
            "_view_name": "StyleView",
            "description_width": ""
          }
        },
        "ceb5c92d27714865a042082b228a91bd": {
          "model_module": "@jupyter-widgets/controls",
          "model_name": "HBoxModel",
          "model_module_version": "1.5.0",
          "state": {
            "_dom_classes": [],
            "_model_module": "@jupyter-widgets/controls",
            "_model_module_version": "1.5.0",
            "_model_name": "HBoxModel",
            "_view_count": null,
            "_view_module": "@jupyter-widgets/controls",
            "_view_module_version": "1.5.0",
            "_view_name": "HBoxView",
            "box_style": "",
            "children": [
              "IPY_MODEL_d550e16fcf1240b695872bf4bf401bf5",
              "IPY_MODEL_4d8cc9ccc0184b08a20eef70219dd714",
              "IPY_MODEL_3fd19fbda210409db86928cfac4ea0fc"
            ],
            "layout": "IPY_MODEL_c4cbc0373c3f4833bbf15e067be42cd5"
          }
        },
        "d550e16fcf1240b695872bf4bf401bf5": {
          "model_module": "@jupyter-widgets/controls",
          "model_name": "HTMLModel",
          "model_module_version": "1.5.0",
          "state": {
            "_dom_classes": [],
            "_model_module": "@jupyter-widgets/controls",
            "_model_module_version": "1.5.0",
            "_model_name": "HTMLModel",
            "_view_count": null,
            "_view_module": "@jupyter-widgets/controls",
            "_view_module_version": "1.5.0",
            "_view_name": "HTMLView",
            "description": "",
            "description_tooltip": null,
            "layout": "IPY_MODEL_507c80a46cf24f788bed8c2b6fbf8276",
            "placeholder": "​",
            "style": "IPY_MODEL_092ac801fb194f01919b7e5ddac3ab4b",
            "value": "vocab.txt: 100%"
          }
        },
        "4d8cc9ccc0184b08a20eef70219dd714": {
          "model_module": "@jupyter-widgets/controls",
          "model_name": "FloatProgressModel",
          "model_module_version": "1.5.0",
          "state": {
            "_dom_classes": [],
            "_model_module": "@jupyter-widgets/controls",
            "_model_module_version": "1.5.0",
            "_model_name": "FloatProgressModel",
            "_view_count": null,
            "_view_module": "@jupyter-widgets/controls",
            "_view_module_version": "1.5.0",
            "_view_name": "ProgressView",
            "bar_style": "success",
            "description": "",
            "description_tooltip": null,
            "layout": "IPY_MODEL_a83bdff542a24b86a4621679f2e4264b",
            "max": 231508,
            "min": 0,
            "orientation": "horizontal",
            "style": "IPY_MODEL_f593cc7be30646a782f53d2196e88d2f",
            "value": 231508
          }
        },
        "3fd19fbda210409db86928cfac4ea0fc": {
          "model_module": "@jupyter-widgets/controls",
          "model_name": "HTMLModel",
          "model_module_version": "1.5.0",
          "state": {
            "_dom_classes": [],
            "_model_module": "@jupyter-widgets/controls",
            "_model_module_version": "1.5.0",
            "_model_name": "HTMLModel",
            "_view_count": null,
            "_view_module": "@jupyter-widgets/controls",
            "_view_module_version": "1.5.0",
            "_view_name": "HTMLView",
            "description": "",
            "description_tooltip": null,
            "layout": "IPY_MODEL_1300b03b00944128b8b37de57835c7b4",
            "placeholder": "​",
            "style": "IPY_MODEL_da97cc158b724608abca6f965c988b18",
            "value": " 232k/232k [00:00&lt;00:00, 13.6MB/s]"
          }
        },
        "c4cbc0373c3f4833bbf15e067be42cd5": {
          "model_module": "@jupyter-widgets/base",
          "model_name": "LayoutModel",
          "model_module_version": "1.2.0",
          "state": {
            "_model_module": "@jupyter-widgets/base",
            "_model_module_version": "1.2.0",
            "_model_name": "LayoutModel",
            "_view_count": null,
            "_view_module": "@jupyter-widgets/base",
            "_view_module_version": "1.2.0",
            "_view_name": "LayoutView",
            "align_content": null,
            "align_items": null,
            "align_self": null,
            "border": null,
            "bottom": null,
            "display": null,
            "flex": null,
            "flex_flow": null,
            "grid_area": null,
            "grid_auto_columns": null,
            "grid_auto_flow": null,
            "grid_auto_rows": null,
            "grid_column": null,
            "grid_gap": null,
            "grid_row": null,
            "grid_template_areas": null,
            "grid_template_columns": null,
            "grid_template_rows": null,
            "height": null,
            "justify_content": null,
            "justify_items": null,
            "left": null,
            "margin": null,
            "max_height": null,
            "max_width": null,
            "min_height": null,
            "min_width": null,
            "object_fit": null,
            "object_position": null,
            "order": null,
            "overflow": null,
            "overflow_x": null,
            "overflow_y": null,
            "padding": null,
            "right": null,
            "top": null,
            "visibility": null,
            "width": null
          }
        },
        "507c80a46cf24f788bed8c2b6fbf8276": {
          "model_module": "@jupyter-widgets/base",
          "model_name": "LayoutModel",
          "model_module_version": "1.2.0",
          "state": {
            "_model_module": "@jupyter-widgets/base",
            "_model_module_version": "1.2.0",
            "_model_name": "LayoutModel",
            "_view_count": null,
            "_view_module": "@jupyter-widgets/base",
            "_view_module_version": "1.2.0",
            "_view_name": "LayoutView",
            "align_content": null,
            "align_items": null,
            "align_self": null,
            "border": null,
            "bottom": null,
            "display": null,
            "flex": null,
            "flex_flow": null,
            "grid_area": null,
            "grid_auto_columns": null,
            "grid_auto_flow": null,
            "grid_auto_rows": null,
            "grid_column": null,
            "grid_gap": null,
            "grid_row": null,
            "grid_template_areas": null,
            "grid_template_columns": null,
            "grid_template_rows": null,
            "height": null,
            "justify_content": null,
            "justify_items": null,
            "left": null,
            "margin": null,
            "max_height": null,
            "max_width": null,
            "min_height": null,
            "min_width": null,
            "object_fit": null,
            "object_position": null,
            "order": null,
            "overflow": null,
            "overflow_x": null,
            "overflow_y": null,
            "padding": null,
            "right": null,
            "top": null,
            "visibility": null,
            "width": null
          }
        },
        "092ac801fb194f01919b7e5ddac3ab4b": {
          "model_module": "@jupyter-widgets/controls",
          "model_name": "DescriptionStyleModel",
          "model_module_version": "1.5.0",
          "state": {
            "_model_module": "@jupyter-widgets/controls",
            "_model_module_version": "1.5.0",
            "_model_name": "DescriptionStyleModel",
            "_view_count": null,
            "_view_module": "@jupyter-widgets/base",
            "_view_module_version": "1.2.0",
            "_view_name": "StyleView",
            "description_width": ""
          }
        },
        "a83bdff542a24b86a4621679f2e4264b": {
          "model_module": "@jupyter-widgets/base",
          "model_name": "LayoutModel",
          "model_module_version": "1.2.0",
          "state": {
            "_model_module": "@jupyter-widgets/base",
            "_model_module_version": "1.2.0",
            "_model_name": "LayoutModel",
            "_view_count": null,
            "_view_module": "@jupyter-widgets/base",
            "_view_module_version": "1.2.0",
            "_view_name": "LayoutView",
            "align_content": null,
            "align_items": null,
            "align_self": null,
            "border": null,
            "bottom": null,
            "display": null,
            "flex": null,
            "flex_flow": null,
            "grid_area": null,
            "grid_auto_columns": null,
            "grid_auto_flow": null,
            "grid_auto_rows": null,
            "grid_column": null,
            "grid_gap": null,
            "grid_row": null,
            "grid_template_areas": null,
            "grid_template_columns": null,
            "grid_template_rows": null,
            "height": null,
            "justify_content": null,
            "justify_items": null,
            "left": null,
            "margin": null,
            "max_height": null,
            "max_width": null,
            "min_height": null,
            "min_width": null,
            "object_fit": null,
            "object_position": null,
            "order": null,
            "overflow": null,
            "overflow_x": null,
            "overflow_y": null,
            "padding": null,
            "right": null,
            "top": null,
            "visibility": null,
            "width": null
          }
        },
        "f593cc7be30646a782f53d2196e88d2f": {
          "model_module": "@jupyter-widgets/controls",
          "model_name": "ProgressStyleModel",
          "model_module_version": "1.5.0",
          "state": {
            "_model_module": "@jupyter-widgets/controls",
            "_model_module_version": "1.5.0",
            "_model_name": "ProgressStyleModel",
            "_view_count": null,
            "_view_module": "@jupyter-widgets/base",
            "_view_module_version": "1.2.0",
            "_view_name": "StyleView",
            "bar_color": null,
            "description_width": ""
          }
        },
        "1300b03b00944128b8b37de57835c7b4": {
          "model_module": "@jupyter-widgets/base",
          "model_name": "LayoutModel",
          "model_module_version": "1.2.0",
          "state": {
            "_model_module": "@jupyter-widgets/base",
            "_model_module_version": "1.2.0",
            "_model_name": "LayoutModel",
            "_view_count": null,
            "_view_module": "@jupyter-widgets/base",
            "_view_module_version": "1.2.0",
            "_view_name": "LayoutView",
            "align_content": null,
            "align_items": null,
            "align_self": null,
            "border": null,
            "bottom": null,
            "display": null,
            "flex": null,
            "flex_flow": null,
            "grid_area": null,
            "grid_auto_columns": null,
            "grid_auto_flow": null,
            "grid_auto_rows": null,
            "grid_column": null,
            "grid_gap": null,
            "grid_row": null,
            "grid_template_areas": null,
            "grid_template_columns": null,
            "grid_template_rows": null,
            "height": null,
            "justify_content": null,
            "justify_items": null,
            "left": null,
            "margin": null,
            "max_height": null,
            "max_width": null,
            "min_height": null,
            "min_width": null,
            "object_fit": null,
            "object_position": null,
            "order": null,
            "overflow": null,
            "overflow_x": null,
            "overflow_y": null,
            "padding": null,
            "right": null,
            "top": null,
            "visibility": null,
            "width": null
          }
        },
        "da97cc158b724608abca6f965c988b18": {
          "model_module": "@jupyter-widgets/controls",
          "model_name": "DescriptionStyleModel",
          "model_module_version": "1.5.0",
          "state": {
            "_model_module": "@jupyter-widgets/controls",
            "_model_module_version": "1.5.0",
            "_model_name": "DescriptionStyleModel",
            "_view_count": null,
            "_view_module": "@jupyter-widgets/base",
            "_view_module_version": "1.2.0",
            "_view_name": "StyleView",
            "description_width": ""
          }
        },
        "937d1cd75b7143a195334b8504b4ce38": {
          "model_module": "@jupyter-widgets/controls",
          "model_name": "HBoxModel",
          "model_module_version": "1.5.0",
          "state": {
            "_dom_classes": [],
            "_model_module": "@jupyter-widgets/controls",
            "_model_module_version": "1.5.0",
            "_model_name": "HBoxModel",
            "_view_count": null,
            "_view_module": "@jupyter-widgets/controls",
            "_view_module_version": "1.5.0",
            "_view_name": "HBoxView",
            "box_style": "",
            "children": [
              "IPY_MODEL_8ed81d80c47d43c5a0b243b519645a9b",
              "IPY_MODEL_4896078a58a04cb7930d71af38155fab",
              "IPY_MODEL_0915ad009c464e52bd2e7f8a8adc690d"
            ],
            "layout": "IPY_MODEL_53bb6b9ad48c4b138fc8eaabb3b38970"
          }
        },
        "8ed81d80c47d43c5a0b243b519645a9b": {
          "model_module": "@jupyter-widgets/controls",
          "model_name": "HTMLModel",
          "model_module_version": "1.5.0",
          "state": {
            "_dom_classes": [],
            "_model_module": "@jupyter-widgets/controls",
            "_model_module_version": "1.5.0",
            "_model_name": "HTMLModel",
            "_view_count": null,
            "_view_module": "@jupyter-widgets/controls",
            "_view_module_version": "1.5.0",
            "_view_name": "HTMLView",
            "description": "",
            "description_tooltip": null,
            "layout": "IPY_MODEL_c640aa4541804072874073328a676d39",
            "placeholder": "​",
            "style": "IPY_MODEL_d5f5be5af277415cb852d6fd8dba1363",
            "value": "tokenizer.json: 100%"
          }
        },
        "4896078a58a04cb7930d71af38155fab": {
          "model_module": "@jupyter-widgets/controls",
          "model_name": "FloatProgressModel",
          "model_module_version": "1.5.0",
          "state": {
            "_dom_classes": [],
            "_model_module": "@jupyter-widgets/controls",
            "_model_module_version": "1.5.0",
            "_model_name": "FloatProgressModel",
            "_view_count": null,
            "_view_module": "@jupyter-widgets/controls",
            "_view_module_version": "1.5.0",
            "_view_name": "ProgressView",
            "bar_style": "success",
            "description": "",
            "description_tooltip": null,
            "layout": "IPY_MODEL_9fac1fc59e57479f902c35f0cad76849",
            "max": 466062,
            "min": 0,
            "orientation": "horizontal",
            "style": "IPY_MODEL_7cd9f23d8cde4bab89b1b9e55a5199b7",
            "value": 466062
          }
        },
        "0915ad009c464e52bd2e7f8a8adc690d": {
          "model_module": "@jupyter-widgets/controls",
          "model_name": "HTMLModel",
          "model_module_version": "1.5.0",
          "state": {
            "_dom_classes": [],
            "_model_module": "@jupyter-widgets/controls",
            "_model_module_version": "1.5.0",
            "_model_name": "HTMLModel",
            "_view_count": null,
            "_view_module": "@jupyter-widgets/controls",
            "_view_module_version": "1.5.0",
            "_view_name": "HTMLView",
            "description": "",
            "description_tooltip": null,
            "layout": "IPY_MODEL_4896a78165aa4204ab62bb7054cad876",
            "placeholder": "​",
            "style": "IPY_MODEL_cd7cf60856824a92885f256af653c754",
            "value": " 466k/466k [00:00&lt;00:00, 24.7MB/s]"
          }
        },
        "53bb6b9ad48c4b138fc8eaabb3b38970": {
          "model_module": "@jupyter-widgets/base",
          "model_name": "LayoutModel",
          "model_module_version": "1.2.0",
          "state": {
            "_model_module": "@jupyter-widgets/base",
            "_model_module_version": "1.2.0",
            "_model_name": "LayoutModel",
            "_view_count": null,
            "_view_module": "@jupyter-widgets/base",
            "_view_module_version": "1.2.0",
            "_view_name": "LayoutView",
            "align_content": null,
            "align_items": null,
            "align_self": null,
            "border": null,
            "bottom": null,
            "display": null,
            "flex": null,
            "flex_flow": null,
            "grid_area": null,
            "grid_auto_columns": null,
            "grid_auto_flow": null,
            "grid_auto_rows": null,
            "grid_column": null,
            "grid_gap": null,
            "grid_row": null,
            "grid_template_areas": null,
            "grid_template_columns": null,
            "grid_template_rows": null,
            "height": null,
            "justify_content": null,
            "justify_items": null,
            "left": null,
            "margin": null,
            "max_height": null,
            "max_width": null,
            "min_height": null,
            "min_width": null,
            "object_fit": null,
            "object_position": null,
            "order": null,
            "overflow": null,
            "overflow_x": null,
            "overflow_y": null,
            "padding": null,
            "right": null,
            "top": null,
            "visibility": null,
            "width": null
          }
        },
        "c640aa4541804072874073328a676d39": {
          "model_module": "@jupyter-widgets/base",
          "model_name": "LayoutModel",
          "model_module_version": "1.2.0",
          "state": {
            "_model_module": "@jupyter-widgets/base",
            "_model_module_version": "1.2.0",
            "_model_name": "LayoutModel",
            "_view_count": null,
            "_view_module": "@jupyter-widgets/base",
            "_view_module_version": "1.2.0",
            "_view_name": "LayoutView",
            "align_content": null,
            "align_items": null,
            "align_self": null,
            "border": null,
            "bottom": null,
            "display": null,
            "flex": null,
            "flex_flow": null,
            "grid_area": null,
            "grid_auto_columns": null,
            "grid_auto_flow": null,
            "grid_auto_rows": null,
            "grid_column": null,
            "grid_gap": null,
            "grid_row": null,
            "grid_template_areas": null,
            "grid_template_columns": null,
            "grid_template_rows": null,
            "height": null,
            "justify_content": null,
            "justify_items": null,
            "left": null,
            "margin": null,
            "max_height": null,
            "max_width": null,
            "min_height": null,
            "min_width": null,
            "object_fit": null,
            "object_position": null,
            "order": null,
            "overflow": null,
            "overflow_x": null,
            "overflow_y": null,
            "padding": null,
            "right": null,
            "top": null,
            "visibility": null,
            "width": null
          }
        },
        "d5f5be5af277415cb852d6fd8dba1363": {
          "model_module": "@jupyter-widgets/controls",
          "model_name": "DescriptionStyleModel",
          "model_module_version": "1.5.0",
          "state": {
            "_model_module": "@jupyter-widgets/controls",
            "_model_module_version": "1.5.0",
            "_model_name": "DescriptionStyleModel",
            "_view_count": null,
            "_view_module": "@jupyter-widgets/base",
            "_view_module_version": "1.2.0",
            "_view_name": "StyleView",
            "description_width": ""
          }
        },
        "9fac1fc59e57479f902c35f0cad76849": {
          "model_module": "@jupyter-widgets/base",
          "model_name": "LayoutModel",
          "model_module_version": "1.2.0",
          "state": {
            "_model_module": "@jupyter-widgets/base",
            "_model_module_version": "1.2.0",
            "_model_name": "LayoutModel",
            "_view_count": null,
            "_view_module": "@jupyter-widgets/base",
            "_view_module_version": "1.2.0",
            "_view_name": "LayoutView",
            "align_content": null,
            "align_items": null,
            "align_self": null,
            "border": null,
            "bottom": null,
            "display": null,
            "flex": null,
            "flex_flow": null,
            "grid_area": null,
            "grid_auto_columns": null,
            "grid_auto_flow": null,
            "grid_auto_rows": null,
            "grid_column": null,
            "grid_gap": null,
            "grid_row": null,
            "grid_template_areas": null,
            "grid_template_columns": null,
            "grid_template_rows": null,
            "height": null,
            "justify_content": null,
            "justify_items": null,
            "left": null,
            "margin": null,
            "max_height": null,
            "max_width": null,
            "min_height": null,
            "min_width": null,
            "object_fit": null,
            "object_position": null,
            "order": null,
            "overflow": null,
            "overflow_x": null,
            "overflow_y": null,
            "padding": null,
            "right": null,
            "top": null,
            "visibility": null,
            "width": null
          }
        },
        "7cd9f23d8cde4bab89b1b9e55a5199b7": {
          "model_module": "@jupyter-widgets/controls",
          "model_name": "ProgressStyleModel",
          "model_module_version": "1.5.0",
          "state": {
            "_model_module": "@jupyter-widgets/controls",
            "_model_module_version": "1.5.0",
            "_model_name": "ProgressStyleModel",
            "_view_count": null,
            "_view_module": "@jupyter-widgets/base",
            "_view_module_version": "1.2.0",
            "_view_name": "StyleView",
            "bar_color": null,
            "description_width": ""
          }
        },
        "4896a78165aa4204ab62bb7054cad876": {
          "model_module": "@jupyter-widgets/base",
          "model_name": "LayoutModel",
          "model_module_version": "1.2.0",
          "state": {
            "_model_module": "@jupyter-widgets/base",
            "_model_module_version": "1.2.0",
            "_model_name": "LayoutModel",
            "_view_count": null,
            "_view_module": "@jupyter-widgets/base",
            "_view_module_version": "1.2.0",
            "_view_name": "LayoutView",
            "align_content": null,
            "align_items": null,
            "align_self": null,
            "border": null,
            "bottom": null,
            "display": null,
            "flex": null,
            "flex_flow": null,
            "grid_area": null,
            "grid_auto_columns": null,
            "grid_auto_flow": null,
            "grid_auto_rows": null,
            "grid_column": null,
            "grid_gap": null,
            "grid_row": null,
            "grid_template_areas": null,
            "grid_template_columns": null,
            "grid_template_rows": null,
            "height": null,
            "justify_content": null,
            "justify_items": null,
            "left": null,
            "margin": null,
            "max_height": null,
            "max_width": null,
            "min_height": null,
            "min_width": null,
            "object_fit": null,
            "object_position": null,
            "order": null,
            "overflow": null,
            "overflow_x": null,
            "overflow_y": null,
            "padding": null,
            "right": null,
            "top": null,
            "visibility": null,
            "width": null
          }
        },
        "cd7cf60856824a92885f256af653c754": {
          "model_module": "@jupyter-widgets/controls",
          "model_name": "DescriptionStyleModel",
          "model_module_version": "1.5.0",
          "state": {
            "_model_module": "@jupyter-widgets/controls",
            "_model_module_version": "1.5.0",
            "_model_name": "DescriptionStyleModel",
            "_view_count": null,
            "_view_module": "@jupyter-widgets/base",
            "_view_module_version": "1.2.0",
            "_view_name": "StyleView",
            "description_width": ""
          }
        },
        "af82e10e87884893b6ee10fe3f816765": {
          "model_module": "@jupyter-widgets/controls",
          "model_name": "HBoxModel",
          "model_module_version": "1.5.0",
          "state": {
            "_dom_classes": [],
            "_model_module": "@jupyter-widgets/controls",
            "_model_module_version": "1.5.0",
            "_model_name": "HBoxModel",
            "_view_count": null,
            "_view_module": "@jupyter-widgets/controls",
            "_view_module_version": "1.5.0",
            "_view_name": "HBoxView",
            "box_style": "",
            "children": [
              "IPY_MODEL_7902af8a7be34752a13ea60a42f7d053",
              "IPY_MODEL_4a95b88d92c34651a2c16dd3a4fda97a",
              "IPY_MODEL_774b311b570246af88a730e39a448582"
            ],
            "layout": "IPY_MODEL_103353a4ca1242a3aabb0ddd19365f52"
          }
        },
        "7902af8a7be34752a13ea60a42f7d053": {
          "model_module": "@jupyter-widgets/controls",
          "model_name": "HTMLModel",
          "model_module_version": "1.5.0",
          "state": {
            "_dom_classes": [],
            "_model_module": "@jupyter-widgets/controls",
            "_model_module_version": "1.5.0",
            "_model_name": "HTMLModel",
            "_view_count": null,
            "_view_module": "@jupyter-widgets/controls",
            "_view_module_version": "1.5.0",
            "_view_name": "HTMLView",
            "description": "",
            "description_tooltip": null,
            "layout": "IPY_MODEL_ea1051aa11bd4c56ad49a919ed57f050",
            "placeholder": "​",
            "style": "IPY_MODEL_fbdd74958c23420997a21c69aa5a84b7",
            "value": "config.json: 100%"
          }
        },
        "4a95b88d92c34651a2c16dd3a4fda97a": {
          "model_module": "@jupyter-widgets/controls",
          "model_name": "FloatProgressModel",
          "model_module_version": "1.5.0",
          "state": {
            "_dom_classes": [],
            "_model_module": "@jupyter-widgets/controls",
            "_model_module_version": "1.5.0",
            "_model_name": "FloatProgressModel",
            "_view_count": null,
            "_view_module": "@jupyter-widgets/controls",
            "_view_module_version": "1.5.0",
            "_view_name": "ProgressView",
            "bar_style": "success",
            "description": "",
            "description_tooltip": null,
            "layout": "IPY_MODEL_32d31c1c6d4d469797c8fb0a0069fde7",
            "max": 570,
            "min": 0,
            "orientation": "horizontal",
            "style": "IPY_MODEL_958719545e444125898db14783c4f20f",
            "value": 570
          }
        },
        "774b311b570246af88a730e39a448582": {
          "model_module": "@jupyter-widgets/controls",
          "model_name": "HTMLModel",
          "model_module_version": "1.5.0",
          "state": {
            "_dom_classes": [],
            "_model_module": "@jupyter-widgets/controls",
            "_model_module_version": "1.5.0",
            "_model_name": "HTMLModel",
            "_view_count": null,
            "_view_module": "@jupyter-widgets/controls",
            "_view_module_version": "1.5.0",
            "_view_name": "HTMLView",
            "description": "",
            "description_tooltip": null,
            "layout": "IPY_MODEL_a9921facf8994300a041912a5a3e4163",
            "placeholder": "​",
            "style": "IPY_MODEL_67a100b04fc54fa88b826aa46549b409",
            "value": " 570/570 [00:00&lt;00:00, 48.0kB/s]"
          }
        },
        "103353a4ca1242a3aabb0ddd19365f52": {
          "model_module": "@jupyter-widgets/base",
          "model_name": "LayoutModel",
          "model_module_version": "1.2.0",
          "state": {
            "_model_module": "@jupyter-widgets/base",
            "_model_module_version": "1.2.0",
            "_model_name": "LayoutModel",
            "_view_count": null,
            "_view_module": "@jupyter-widgets/base",
            "_view_module_version": "1.2.0",
            "_view_name": "LayoutView",
            "align_content": null,
            "align_items": null,
            "align_self": null,
            "border": null,
            "bottom": null,
            "display": null,
            "flex": null,
            "flex_flow": null,
            "grid_area": null,
            "grid_auto_columns": null,
            "grid_auto_flow": null,
            "grid_auto_rows": null,
            "grid_column": null,
            "grid_gap": null,
            "grid_row": null,
            "grid_template_areas": null,
            "grid_template_columns": null,
            "grid_template_rows": null,
            "height": null,
            "justify_content": null,
            "justify_items": null,
            "left": null,
            "margin": null,
            "max_height": null,
            "max_width": null,
            "min_height": null,
            "min_width": null,
            "object_fit": null,
            "object_position": null,
            "order": null,
            "overflow": null,
            "overflow_x": null,
            "overflow_y": null,
            "padding": null,
            "right": null,
            "top": null,
            "visibility": null,
            "width": null
          }
        },
        "ea1051aa11bd4c56ad49a919ed57f050": {
          "model_module": "@jupyter-widgets/base",
          "model_name": "LayoutModel",
          "model_module_version": "1.2.0",
          "state": {
            "_model_module": "@jupyter-widgets/base",
            "_model_module_version": "1.2.0",
            "_model_name": "LayoutModel",
            "_view_count": null,
            "_view_module": "@jupyter-widgets/base",
            "_view_module_version": "1.2.0",
            "_view_name": "LayoutView",
            "align_content": null,
            "align_items": null,
            "align_self": null,
            "border": null,
            "bottom": null,
            "display": null,
            "flex": null,
            "flex_flow": null,
            "grid_area": null,
            "grid_auto_columns": null,
            "grid_auto_flow": null,
            "grid_auto_rows": null,
            "grid_column": null,
            "grid_gap": null,
            "grid_row": null,
            "grid_template_areas": null,
            "grid_template_columns": null,
            "grid_template_rows": null,
            "height": null,
            "justify_content": null,
            "justify_items": null,
            "left": null,
            "margin": null,
            "max_height": null,
            "max_width": null,
            "min_height": null,
            "min_width": null,
            "object_fit": null,
            "object_position": null,
            "order": null,
            "overflow": null,
            "overflow_x": null,
            "overflow_y": null,
            "padding": null,
            "right": null,
            "top": null,
            "visibility": null,
            "width": null
          }
        },
        "fbdd74958c23420997a21c69aa5a84b7": {
          "model_module": "@jupyter-widgets/controls",
          "model_name": "DescriptionStyleModel",
          "model_module_version": "1.5.0",
          "state": {
            "_model_module": "@jupyter-widgets/controls",
            "_model_module_version": "1.5.0",
            "_model_name": "DescriptionStyleModel",
            "_view_count": null,
            "_view_module": "@jupyter-widgets/base",
            "_view_module_version": "1.2.0",
            "_view_name": "StyleView",
            "description_width": ""
          }
        },
        "32d31c1c6d4d469797c8fb0a0069fde7": {
          "model_module": "@jupyter-widgets/base",
          "model_name": "LayoutModel",
          "model_module_version": "1.2.0",
          "state": {
            "_model_module": "@jupyter-widgets/base",
            "_model_module_version": "1.2.0",
            "_model_name": "LayoutModel",
            "_view_count": null,
            "_view_module": "@jupyter-widgets/base",
            "_view_module_version": "1.2.0",
            "_view_name": "LayoutView",
            "align_content": null,
            "align_items": null,
            "align_self": null,
            "border": null,
            "bottom": null,
            "display": null,
            "flex": null,
            "flex_flow": null,
            "grid_area": null,
            "grid_auto_columns": null,
            "grid_auto_flow": null,
            "grid_auto_rows": null,
            "grid_column": null,
            "grid_gap": null,
            "grid_row": null,
            "grid_template_areas": null,
            "grid_template_columns": null,
            "grid_template_rows": null,
            "height": null,
            "justify_content": null,
            "justify_items": null,
            "left": null,
            "margin": null,
            "max_height": null,
            "max_width": null,
            "min_height": null,
            "min_width": null,
            "object_fit": null,
            "object_position": null,
            "order": null,
            "overflow": null,
            "overflow_x": null,
            "overflow_y": null,
            "padding": null,
            "right": null,
            "top": null,
            "visibility": null,
            "width": null
          }
        },
        "958719545e444125898db14783c4f20f": {
          "model_module": "@jupyter-widgets/controls",
          "model_name": "ProgressStyleModel",
          "model_module_version": "1.5.0",
          "state": {
            "_model_module": "@jupyter-widgets/controls",
            "_model_module_version": "1.5.0",
            "_model_name": "ProgressStyleModel",
            "_view_count": null,
            "_view_module": "@jupyter-widgets/base",
            "_view_module_version": "1.2.0",
            "_view_name": "StyleView",
            "bar_color": null,
            "description_width": ""
          }
        },
        "a9921facf8994300a041912a5a3e4163": {
          "model_module": "@jupyter-widgets/base",
          "model_name": "LayoutModel",
          "model_module_version": "1.2.0",
          "state": {
            "_model_module": "@jupyter-widgets/base",
            "_model_module_version": "1.2.0",
            "_model_name": "LayoutModel",
            "_view_count": null,
            "_view_module": "@jupyter-widgets/base",
            "_view_module_version": "1.2.0",
            "_view_name": "LayoutView",
            "align_content": null,
            "align_items": null,
            "align_self": null,
            "border": null,
            "bottom": null,
            "display": null,
            "flex": null,
            "flex_flow": null,
            "grid_area": null,
            "grid_auto_columns": null,
            "grid_auto_flow": null,
            "grid_auto_rows": null,
            "grid_column": null,
            "grid_gap": null,
            "grid_row": null,
            "grid_template_areas": null,
            "grid_template_columns": null,
            "grid_template_rows": null,
            "height": null,
            "justify_content": null,
            "justify_items": null,
            "left": null,
            "margin": null,
            "max_height": null,
            "max_width": null,
            "min_height": null,
            "min_width": null,
            "object_fit": null,
            "object_position": null,
            "order": null,
            "overflow": null,
            "overflow_x": null,
            "overflow_y": null,
            "padding": null,
            "right": null,
            "top": null,
            "visibility": null,
            "width": null
          }
        },
        "67a100b04fc54fa88b826aa46549b409": {
          "model_module": "@jupyter-widgets/controls",
          "model_name": "DescriptionStyleModel",
          "model_module_version": "1.5.0",
          "state": {
            "_model_module": "@jupyter-widgets/controls",
            "_model_module_version": "1.5.0",
            "_model_name": "DescriptionStyleModel",
            "_view_count": null,
            "_view_module": "@jupyter-widgets/base",
            "_view_module_version": "1.2.0",
            "_view_name": "StyleView",
            "description_width": ""
          }
        }
      }
    }
  },
  "cells": [
    {
      "cell_type": "code",
      "source": [
        "from sklearn.model_selection import train_test_split\n",
        "import pandas as pd\n",
        "import numpy as np\n",
        "!pip install nltk\n",
        "!pip install nltk matplotlib\n",
        "\n",
        "# Read the first Excel file into a pandas DataFrame\n",
        "file1 = \"animation_simple_wikipedia_articles.xlsx\"\n",
        "df1 = pd.read_excel(file1)\n",
        "df1['label'] = 0\n",
        "\n",
        "# Read the second Excel file into a pandas DataFrame\n",
        "file2 = \"animation_full_wikipedia_articles.xlsx\"\n",
        "df2 = pd.read_excel(file2)\n",
        "df2['label'] = 1\n",
        "\n",
        "# Read the first Excel file into a pandas DataFrame\n",
        "file3 = \"art_simple_wikipedia_articles.xlsx\"\n",
        "df3 = pd.read_excel(file3)\n",
        "df3['label'] = 0\n",
        "\n",
        "# Read the second Excel file into a pandas DataFrame\n",
        "file4 = \"art_full_wikipedia_articles.xlsx\"\n",
        "df4 = pd.read_excel(file4)\n",
        "df4['label'] = 1\n",
        "\n",
        "# Read the first Excel file into a pandas DataFrame\n",
        "file5 = \"engineering_simple_wikipedia_articles.xlsx\"\n",
        "df5 = pd.read_excel(file5)\n",
        "df5['label'] = 0\n",
        "\n",
        "# Read the second Excel file into a pandas DataFrame\n",
        "file6 = \"engineering_full_wikipedia_articles.xlsx\"\n",
        "df6 = pd.read_excel(file6)\n",
        "df6['label'] = 1\n",
        "\n",
        "# Read the first Excel file into a pandas DataFrame\n",
        "file7 = \"weather_simple_wikipedia_articles.xlsx\"\n",
        "df7 = pd.read_excel(file7)\n",
        "df7['label'] = 0\n",
        "\n",
        "# Read the second Excel file into a pandas DataFrame\n",
        "file8 = \"weather_full_wikipedia_articles.xlsx\"\n",
        "df8 = pd.read_excel(file8)\n",
        "df8['label'] = 1\n",
        "\n",
        "# Read the first Excel file into a pandas DataFrame\n",
        "file9 = \"medicine_simple_wikipedia_articles.xlsx\"\n",
        "df9 = pd.read_excel(file9)\n",
        "df9['label'] = 0\n",
        "\n",
        "# Read the second Excel file into a pandas DataFrame\n",
        "file10 = \"medicine_full_wikipedia_articles.xlsx\"\n",
        "df10 = pd.read_excel(file10)\n",
        "df10['label'] = 1\n",
        "\n",
        "# Read the first Excel file into a pandas DataFrame\n",
        "file11 = \"wood_simple_wikipedia_articles.xlsx\"\n",
        "df11 = pd.read_excel(file11)\n",
        "df11['label'] = 0\n",
        "\n",
        "# Read the second Excel file into a pandas DataFrame\n",
        "file12 = \"wood_full_wikipedia_articles.xlsx\"\n",
        "df12 = pd.read_excel(file12)\n",
        "df12['label'] = 1\n",
        "\n",
        "# Read the first Excel file into a pandas DataFrame\n",
        "file13 = \"tourism_simple_wikipedia_articles.xlsx\"\n",
        "df13 = pd.read_excel(file13)\n",
        "df13['label'] = 0\n",
        "\n",
        "# Read the second Excel file into a pandas DataFrame\n",
        "file14 = \"tourism_full_wikipedia_articles.xlsx\"\n",
        "df14 = pd.read_excel(file14)\n",
        "df14['label'] = 1\n",
        "\n",
        "# Read the first Excel file into a pandas DataFrame\n",
        "file15 = \"fire_simple_wikipedia_articles.xlsx\"\n",
        "df15 = pd.read_excel(file15)\n",
        "df15['label'] = 0\n",
        "\n",
        "# Read the second Excel file into a pandas DataFrame\n",
        "file16 = \"fire_full_wikipedia_articles.xlsx\"\n",
        "df16 = pd.read_excel(file16)\n",
        "df16['label'] = 1\n",
        "\n",
        "# Read the first Excel file into a pandas DataFrame\n",
        "file17 = \"money_simple_wikipedia_articles.xlsx\"\n",
        "df17 = pd.read_excel(file17)\n",
        "df17['label'] = 0\n",
        "\n",
        "# Read the second Excel file into a pandas DataFrame\n",
        "file18 = \"money_full_wikipedia_articles.xlsx\"\n",
        "df18 = pd.read_excel(file18)\n",
        "df18['label'] = 1\n",
        "\n",
        "# Read the first Excel file into a pandas DataFrame\n",
        "file19 = \"sculpture_simple_wikipedia_articles.xlsx\"\n",
        "df19 = pd.read_excel(file19)\n",
        "df19['label'] = 0\n",
        "\n",
        "# Read the second Excel file into a pandas DataFrame\n",
        "file20 = \"sculpture_full_wikipedia_articles.xlsx\"\n",
        "df20 = pd.read_excel(file20)\n",
        "df20['label'] = 1\n",
        "\n",
        "# Read the first Excel file into a pandas DataFrame\n",
        "file21 = \"astronomy_simple_wikipedia_articles.xlsx\"\n",
        "df21 = pd.read_excel(file21)\n",
        "df21['label'] = 0\n",
        "\n",
        "# Read the second Excel file into a pandas DataFrame\n",
        "file22 = \"astronomy_full_wikipedia_articles.xlsx\"\n",
        "df22 = pd.read_excel(file22)\n",
        "df22['label'] = 1\n",
        "\n",
        "# Read the first Excel file into a pandas DataFrame\n",
        "file23 = \"theology_simple_wikipedia_articles.xlsx\"\n",
        "df23 = pd.read_excel(file23)\n",
        "df23['label'] = 0\n",
        "\n",
        "# Read the second Excel file into a pandas DataFrame\n",
        "file24 = \"theology_full_wikipedia_articles.xlsx\"\n",
        "df24 = pd.read_excel(file24)\n",
        "df24['label'] = 1\n",
        "\n",
        "# Read the first Excel file into a pandas DataFrame\n",
        "file25 = \"software_simple_wikipedia_articles.xlsx\"\n",
        "df25 = pd.read_excel(file25)\n",
        "df25['label'] = 0\n",
        "\n",
        "# Read the second Excel file into a pandas DataFrame\n",
        "file26 = \"software_full_wikipedia_articles.xlsx\"\n",
        "df26 = pd.read_excel(file26)\n",
        "df26['label'] = 1\n",
        "\n",
        "\n",
        "\n",
        "# Merge or concatenate the DataFrames\n",
        "# For example, if you want to concatenate them row-wise:\n",
        "merged_df = pd.concat([df1, df2,df3,df4,df5,df6,df7,df8,df9,df10,df11,df12,df13,df14,df15,df16,df17,df18,df19,df20,df21,df22,df23,df24,df25,df26], ignore_index=True)\n",
        "\n",
        "# Define column names\n",
        "column_names = ['category', 'text','label']  # Add column names as needed\n",
        "\n",
        "# Assign column names directly to the merged DataFrame\n",
        "merged_df.columns = column_names\n",
        "df1.columns = column_names\n",
        "df2.columns = column_names\n",
        "df3.columns = column_names\n",
        "df4.columns = column_names\n",
        "\n",
        "# Print the merged DataFrame to verify the header\n",
        "print(len(merged_df.columns))\n",
        "\n",
        "import chardet\n",
        "\n",
        "test_datapath = f'test.csv'\n",
        "#df = pd.read_csv(datapath,index_col=False)\n",
        "#df.reset_index(drop=True, inplace=True)\n",
        "'''\n",
        "with open('test.csv', 'rb') as f:\n",
        "    encoding_test = chardet.detect(f.read())['encoding']\n",
        "test_df = pd.read_csv(test_datapath, encoding=encoding_test)\n",
        "'''\n",
        "np.random.seed(112)\n",
        "train_df, val_df, test_df_2 = np.split(merged_df.sample(frac=1, random_state=42),\n",
        "                                     [int(.8*len(merged_df)), int(.9*len(merged_df))])\n",
        "\n",
        "print(len(train_df),len(val_df), len(test_df_2))"
      ],
      "metadata": {
        "colab": {
          "base_uri": "https://localhost:8080/"
        },
        "id": "za-8zJ6-NshD",
        "outputId": "82d5a710-31ec-4392-a427-be157eee1e55"
      },
      "execution_count": null,
      "outputs": [
        {
          "output_type": "stream",
          "name": "stdout",
          "text": [
            "Requirement already satisfied: nltk in /usr/local/lib/python3.10/dist-packages (3.8.1)\n",
            "Requirement already satisfied: click in /usr/local/lib/python3.10/dist-packages (from nltk) (8.1.7)\n",
            "Requirement already satisfied: joblib in /usr/local/lib/python3.10/dist-packages (from nltk) (1.4.2)\n",
            "Requirement already satisfied: regex>=2021.8.3 in /usr/local/lib/python3.10/dist-packages (from nltk) (2024.9.11)\n",
            "Requirement already satisfied: tqdm in /usr/local/lib/python3.10/dist-packages (from nltk) (4.66.6)\n",
            "Requirement already satisfied: nltk in /usr/local/lib/python3.10/dist-packages (3.8.1)\n",
            "Requirement already satisfied: matplotlib in /usr/local/lib/python3.10/dist-packages (3.8.0)\n",
            "Requirement already satisfied: click in /usr/local/lib/python3.10/dist-packages (from nltk) (8.1.7)\n",
            "Requirement already satisfied: joblib in /usr/local/lib/python3.10/dist-packages (from nltk) (1.4.2)\n",
            "Requirement already satisfied: regex>=2021.8.3 in /usr/local/lib/python3.10/dist-packages (from nltk) (2024.9.11)\n",
            "Requirement already satisfied: tqdm in /usr/local/lib/python3.10/dist-packages (from nltk) (4.66.6)\n",
            "Requirement already satisfied: contourpy>=1.0.1 in /usr/local/lib/python3.10/dist-packages (from matplotlib) (1.3.0)\n",
            "Requirement already satisfied: cycler>=0.10 in /usr/local/lib/python3.10/dist-packages (from matplotlib) (0.12.1)\n",
            "Requirement already satisfied: fonttools>=4.22.0 in /usr/local/lib/python3.10/dist-packages (from matplotlib) (4.54.1)\n",
            "Requirement already satisfied: kiwisolver>=1.0.1 in /usr/local/lib/python3.10/dist-packages (from matplotlib) (1.4.7)\n",
            "Requirement already satisfied: numpy<2,>=1.21 in /usr/local/lib/python3.10/dist-packages (from matplotlib) (1.26.4)\n",
            "Requirement already satisfied: packaging>=20.0 in /usr/local/lib/python3.10/dist-packages (from matplotlib) (24.1)\n",
            "Requirement already satisfied: pillow>=6.2.0 in /usr/local/lib/python3.10/dist-packages (from matplotlib) (10.4.0)\n",
            "Requirement already satisfied: pyparsing>=2.3.1 in /usr/local/lib/python3.10/dist-packages (from matplotlib) (3.2.0)\n",
            "Requirement already satisfied: python-dateutil>=2.7 in /usr/local/lib/python3.10/dist-packages (from matplotlib) (2.8.2)\n",
            "Requirement already satisfied: six>=1.5 in /usr/local/lib/python3.10/dist-packages (from python-dateutil>=2.7->matplotlib) (1.16.0)\n",
            "3\n",
            "1072 134 135\n"
          ]
        },
        {
          "output_type": "stream",
          "name": "stderr",
          "text": [
            "/usr/local/lib/python3.10/dist-packages/numpy/core/fromnumeric.py:59: FutureWarning: 'DataFrame.swapaxes' is deprecated and will be removed in a future version. Please use 'DataFrame.transpose' instead.\n",
            "  return bound(*args, **kwds)\n"
          ]
        }
      ]
    },
    {
      "cell_type": "code",
      "source": [
        "# Install CUDA Toolkit\n",
        "!wget https://developer.download.nvidia.com/compute/cuda/repos/ubuntu1804/x86_64/cuda-11-0_11.0.3-1_amd64.deb\n",
        "!dpkg -i cuda-11-0_11.0.3-1_amd64.deb\n",
        "!apt-key adv --fetch-keys https://developer.download.nvidia.com/compute/cuda/repos/ubuntu1804/x86_64/7fa2af80.pub\n",
        "!apt-get update\n",
        "!apt-get install cuda\n",
        "\n",
        "# Install cuDNN (adjust version accordingly)\n",
        "!wget https://developer.download.nvidia.com/compute/redist/cudnn/v8.0.5/cudnn-11.0-linux-x64-v8.0.5.39.tgz\n",
        "!tar -xzvf cudnn-11.0-linux-x64-v8.0.5.39.tgz\n",
        "!cp cuda/include/cudnn*.h /usr/local/cuda/include\n",
        "!cp cuda/lib64/libcudnn* /usr/local/cuda/lib64\n",
        "!chmod a+r /usr/local/cuda/include/cudnn*.h /usr/local/cuda/lib64/libcudnn*\n",
        "\n",
        "!nvidia-smi\n",
        "\n",
        "import torch\n",
        "torch.cuda.is_available()"
      ],
      "metadata": {
        "colab": {
          "base_uri": "https://localhost:8080/"
        },
        "id": "xpFgkOHATThe",
        "outputId": "de17c01a-fc44-4a70-b9f3-9277cb44f25b"
      },
      "execution_count": null,
      "outputs": [
        {
          "output_type": "stream",
          "name": "stdout",
          "text": [
            "--2024-11-10 19:20:19--  https://developer.download.nvidia.com/compute/cuda/repos/ubuntu1804/x86_64/cuda-11-0_11.0.3-1_amd64.deb\n",
            "Resolving developer.download.nvidia.com (developer.download.nvidia.com)... 152.199.39.144\n",
            "Connecting to developer.download.nvidia.com (developer.download.nvidia.com)|152.199.39.144|:443... connected.\n",
            "HTTP request sent, awaiting response... 200 OK\n",
            "Length: 2446 (2.4K) [application/x-deb]\n",
            "Saving to: ‘cuda-11-0_11.0.3-1_amd64.deb’\n",
            "\n",
            "\r          cuda-11-0   0%[                    ]       0  --.-KB/s               \rcuda-11-0_11.0.3-1_ 100%[===================>]   2.39K  --.-KB/s    in 0s      \n",
            "\n",
            "2024-11-10 19:20:19 (172 MB/s) - ‘cuda-11-0_11.0.3-1_amd64.deb’ saved [2446/2446]\n",
            "\n",
            "Selecting previously unselected package cuda-11-0.\n",
            "(Reading database ... 123623 files and directories currently installed.)\n",
            "Preparing to unpack cuda-11-0_11.0.3-1_amd64.deb ...\n",
            "Unpacking cuda-11-0 (11.0.3-1) ...\n",
            "\u001b[1mdpkg:\u001b[0m dependency problems prevent configuration of cuda-11-0:\n",
            " cuda-11-0 depends on cuda-runtime-11-0 (>= 11.0.3); however:\n",
            "  Package cuda-runtime-11-0 is not installed.\n",
            " cuda-11-0 depends on cuda-toolkit-11-0 (>= 11.0.3); however:\n",
            "  Package cuda-toolkit-11-0 is not installed.\n",
            " cuda-11-0 depends on cuda-demo-suite-11-0 (>= 11.0.167); however:\n",
            "  Package cuda-demo-suite-11-0 is not installed.\n",
            "\n",
            "\u001b[1mdpkg:\u001b[0m error processing package cuda-11-0 (--install):\n",
            " dependency problems - leaving unconfigured\n",
            "Errors were encountered while processing:\n",
            " cuda-11-0\n",
            "Warning: apt-key is deprecated. Manage keyring files in trusted.gpg.d instead (see apt-key(8)).\n",
            "Executing: /tmp/apt-key-gpghome.Lqk6gh1T90/gpg.1.sh --fetch-keys https://developer.download.nvidia.com/compute/cuda/repos/ubuntu1804/x86_64/7fa2af80.pub\n",
            "gpg: requesting key from 'https://developer.download.nvidia.com/compute/cuda/repos/ubuntu1804/x86_64/7fa2af80.pub'\n",
            "gpg: key F60F4B3D7FA2AF80: public key \"cudatools <cudatools@nvidia.com>\" imported\n",
            "gpg: Total number processed: 1\n",
            "gpg:               imported: 1\n",
            "Get:1 https://cloud.r-project.org/bin/linux/ubuntu jammy-cran40/ InRelease [3,626 B]\n",
            "Hit:2 https://developer.download.nvidia.com/compute/cuda/repos/ubuntu2204/x86_64  InRelease\n",
            "Get:3 http://security.ubuntu.com/ubuntu jammy-security InRelease [129 kB]\n",
            "Hit:4 http://archive.ubuntu.com/ubuntu jammy InRelease\n",
            "Hit:5 https://ppa.launchpadcontent.net/deadsnakes/ppa/ubuntu jammy InRelease\n",
            "Get:6 http://archive.ubuntu.com/ubuntu jammy-updates InRelease [128 kB]\n",
            "Hit:7 https://ppa.launchpadcontent.net/graphics-drivers/ppa/ubuntu jammy InRelease\n",
            "Get:8 https://r2u.stat.illinois.edu/ubuntu jammy InRelease [6,555 B]\n",
            "Hit:9 https://ppa.launchpadcontent.net/ubuntugis/ppa/ubuntu jammy InRelease\n",
            "Get:10 https://r2u.stat.illinois.edu/ubuntu jammy/main amd64 Packages [2,609 kB]\n",
            "Get:11 http://archive.ubuntu.com/ubuntu jammy-backports InRelease [127 kB]\n",
            "Get:12 http://archive.ubuntu.com/ubuntu jammy-updates/restricted amd64 Packages [3,353 kB]\n",
            "Get:13 http://archive.ubuntu.com/ubuntu jammy-updates/universe amd64 Packages [1,452 kB]\n",
            "Get:14 http://archive.ubuntu.com/ubuntu jammy-updates/main amd64 Packages [2,696 kB]\n",
            "Get:15 https://r2u.stat.illinois.edu/ubuntu jammy/main all Packages [8,459 kB]\n",
            "Fetched 19.0 MB in 4s (4,380 kB/s)\n",
            "Reading package lists... Done\n",
            "W: Skipping acquire of configured file 'main/source/Sources' as repository 'https://r2u.stat.illinois.edu/ubuntu jammy InRelease' does not seem to provide it (sources.list entry misspelt?)\n",
            "Reading package lists... Done\n",
            "Building dependency tree... Done\n",
            "Reading state information... Done\n",
            "You might want to run 'apt --fix-broken install' to correct these.\n",
            "The following packages have unmet dependencies:\n",
            " cuda : Depends: cuda-12-6 (>= 12.6.2) but it is not going to be installed\n",
            "        Depends: nvidia-open (>= 560.35.03) but it is not going to be installed\n",
            " cuda-11-0 : Depends: cuda-runtime-11-0 (>= 11.0.3) but it is not installable\n",
            "             Depends: cuda-toolkit-11-0 (>= 11.0.3) but it is not installable\n",
            "             Depends: cuda-demo-suite-11-0 (>= 11.0.167) but it is not installable\n",
            "E: Unmet dependencies. Try 'apt --fix-broken install' with no packages (or specify a solution).\n",
            "--2024-11-10 19:20:29--  https://developer.download.nvidia.com/compute/redist/cudnn/v8.0.5/cudnn-11.0-linux-x64-v8.0.5.39.tgz\n",
            "Resolving developer.download.nvidia.com (developer.download.nvidia.com)... 152.199.39.144\n",
            "Connecting to developer.download.nvidia.com (developer.download.nvidia.com)|152.199.39.144|:443... connected.\n",
            "HTTP request sent, awaiting response... 200 OK\n",
            "Length: 1085996495 (1.0G) [application/x-compressed]\n",
            "Saving to: ‘cudnn-11.0-linux-x64-v8.0.5.39.tgz’\n",
            "\n",
            "cudnn-11.0-linux-x6 100%[===================>]   1.01G  21.9MB/s    in 49s     \n",
            "\n",
            "2024-11-10 19:21:18 (21.0 MB/s) - ‘cudnn-11.0-linux-x64-v8.0.5.39.tgz’ saved [1085996495/1085996495]\n",
            "\n",
            "cuda/include/cudnn.h\n",
            "cuda/include/cudnn_adv_infer.h\n",
            "cuda/include/cudnn_adv_train.h\n",
            "cuda/include/cudnn_backend.h\n",
            "cuda/include/cudnn_cnn_infer.h\n",
            "cuda/include/cudnn_cnn_train.h\n",
            "cuda/include/cudnn_ops_infer.h\n",
            "cuda/include/cudnn_ops_train.h\n",
            "cuda/include/cudnn_version.h\n",
            "cuda/NVIDIA_SLA_cuDNN_Support.txt\n",
            "cuda/lib64/libcudnn.so\n",
            "cuda/lib64/libcudnn.so.8\n",
            "cuda/lib64/libcudnn.so.8.0.5\n",
            "cuda/lib64/libcudnn_adv_infer.so\n",
            "cuda/lib64/libcudnn_adv_infer.so.8\n",
            "cuda/lib64/libcudnn_adv_infer.so.8.0.5\n",
            "cuda/lib64/libcudnn_adv_train.so\n",
            "cuda/lib64/libcudnn_adv_train.so.8\n",
            "cuda/lib64/libcudnn_adv_train.so.8.0.5\n",
            "cuda/lib64/libcudnn_cnn_infer.so\n",
            "cuda/lib64/libcudnn_cnn_infer.so.8\n",
            "cuda/lib64/libcudnn_cnn_infer.so.8.0.5\n",
            "cuda/lib64/libcudnn_cnn_train.so\n",
            "cuda/lib64/libcudnn_cnn_train.so.8\n",
            "cuda/lib64/libcudnn_cnn_train.so.8.0.5\n",
            "cuda/lib64/libcudnn_ops_infer.so\n",
            "cuda/lib64/libcudnn_ops_infer.so.8\n",
            "cuda/lib64/libcudnn_ops_infer.so.8.0.5\n",
            "cuda/lib64/libcudnn_ops_train.so\n",
            "cuda/lib64/libcudnn_ops_train.so.8\n",
            "cuda/lib64/libcudnn_ops_train.so.8.0.5\n",
            "cuda/lib64/libcudnn_static.a\n",
            "cuda/lib64/libcudnn_static.a\n",
            "Sun Nov 10 19:22:06 2024       \n",
            "+---------------------------------------------------------------------------------------+\n",
            "| NVIDIA-SMI 535.104.05             Driver Version: 535.104.05   CUDA Version: 12.2     |\n",
            "|-----------------------------------------+----------------------+----------------------+\n",
            "| GPU  Name                 Persistence-M | Bus-Id        Disp.A | Volatile Uncorr. ECC |\n",
            "| Fan  Temp   Perf          Pwr:Usage/Cap |         Memory-Usage | GPU-Util  Compute M. |\n",
            "|                                         |                      |               MIG M. |\n",
            "|=========================================+======================+======================|\n",
            "|   0  NVIDIA A100-SXM4-40GB          Off | 00000000:00:04.0 Off |                    0 |\n",
            "| N/A   30C    P0              44W / 400W |      2MiB / 40960MiB |      0%      Default |\n",
            "|                                         |                      |             Disabled |\n",
            "+-----------------------------------------+----------------------+----------------------+\n",
            "                                                                                         \n",
            "+---------------------------------------------------------------------------------------+\n",
            "| Processes:                                                                            |\n",
            "|  GPU   GI   CI        PID   Type   Process name                            GPU Memory |\n",
            "|        ID   ID                                                             Usage      |\n",
            "|=======================================================================================|\n",
            "|  No running processes found                                                           |\n",
            "+---------------------------------------------------------------------------------------+\n"
          ]
        },
        {
          "output_type": "execute_result",
          "data": {
            "text/plain": [
              "True"
            ]
          },
          "metadata": {},
          "execution_count": 2
        }
      ]
    },
    {
      "cell_type": "code",
      "source": [],
      "metadata": {
        "id": "GUKheyThWdX5"
      },
      "execution_count": null,
      "outputs": []
    },
    {
      "cell_type": "code",
      "execution_count": null,
      "metadata": {
        "colab": {
          "base_uri": "https://localhost:8080/",
          "height": 304,
          "referenced_widgets": [
            "2676be5ed8fc40e4be7dc7cbe7c1a9be",
            "6cf428c6817b436797850aa2a45e2682",
            "fb09dd3aced447cb85691fd21fe01c24",
            "54040aaa1c094b65a22b63e96cd57d32",
            "93c5092572304817966fce85ed96aa7d",
            "7ebb8a9bb3904dd9b28aeb6a4a0a0cd9",
            "1c9faed2a0d34ed4a7f125fc938cab41",
            "933b9d5ff7d54d04bce43e987c11e4c9",
            "10517af530fe4e62996cbc30e28a5094",
            "5cc386c9b3b243d4aa1a56a117eac333",
            "b801c0f7dbf44e51adedb452b2869e65",
            "ceb5c92d27714865a042082b228a91bd",
            "d550e16fcf1240b695872bf4bf401bf5",
            "4d8cc9ccc0184b08a20eef70219dd714",
            "3fd19fbda210409db86928cfac4ea0fc",
            "c4cbc0373c3f4833bbf15e067be42cd5",
            "507c80a46cf24f788bed8c2b6fbf8276",
            "092ac801fb194f01919b7e5ddac3ab4b",
            "a83bdff542a24b86a4621679f2e4264b",
            "f593cc7be30646a782f53d2196e88d2f",
            "1300b03b00944128b8b37de57835c7b4",
            "da97cc158b724608abca6f965c988b18",
            "937d1cd75b7143a195334b8504b4ce38",
            "8ed81d80c47d43c5a0b243b519645a9b",
            "4896078a58a04cb7930d71af38155fab",
            "0915ad009c464e52bd2e7f8a8adc690d",
            "53bb6b9ad48c4b138fc8eaabb3b38970",
            "c640aa4541804072874073328a676d39",
            "d5f5be5af277415cb852d6fd8dba1363",
            "9fac1fc59e57479f902c35f0cad76849",
            "7cd9f23d8cde4bab89b1b9e55a5199b7",
            "4896a78165aa4204ab62bb7054cad876",
            "cd7cf60856824a92885f256af653c754",
            "af82e10e87884893b6ee10fe3f816765",
            "7902af8a7be34752a13ea60a42f7d053",
            "4a95b88d92c34651a2c16dd3a4fda97a",
            "774b311b570246af88a730e39a448582",
            "103353a4ca1242a3aabb0ddd19365f52",
            "ea1051aa11bd4c56ad49a919ed57f050",
            "fbdd74958c23420997a21c69aa5a84b7",
            "32d31c1c6d4d469797c8fb0a0069fde7",
            "958719545e444125898db14783c4f20f",
            "a9921facf8994300a041912a5a3e4163",
            "67a100b04fc54fa88b826aa46549b409"
          ]
        },
        "id": "U_yeHhLKM8HD",
        "outputId": "b93be7e0-218b-408f-d9ae-f01fe26deb69"
      },
      "outputs": [
        {
          "output_type": "stream",
          "name": "stderr",
          "text": [
            "/usr/local/lib/python3.10/dist-packages/huggingface_hub/utils/_token.py:89: UserWarning: \n",
            "The secret `HF_TOKEN` does not exist in your Colab secrets.\n",
            "To authenticate with the Hugging Face Hub, create a token in your settings tab (https://huggingface.co/settings/tokens), set it as secret in your Google Colab and restart your session.\n",
            "You will be able to reuse this secret in all of your notebooks.\n",
            "Please note that authentication is recommended but still optional to access public models or datasets.\n",
            "  warnings.warn(\n"
          ]
        },
        {
          "output_type": "display_data",
          "data": {
            "text/plain": [
              "tokenizer_config.json:   0%|          | 0.00/48.0 [00:00<?, ?B/s]"
            ],
            "application/vnd.jupyter.widget-view+json": {
              "version_major": 2,
              "version_minor": 0,
              "model_id": "2676be5ed8fc40e4be7dc7cbe7c1a9be"
            }
          },
          "metadata": {}
        },
        {
          "output_type": "display_data",
          "data": {
            "text/plain": [
              "vocab.txt:   0%|          | 0.00/232k [00:00<?, ?B/s]"
            ],
            "application/vnd.jupyter.widget-view+json": {
              "version_major": 2,
              "version_minor": 0,
              "model_id": "ceb5c92d27714865a042082b228a91bd"
            }
          },
          "metadata": {}
        },
        {
          "output_type": "display_data",
          "data": {
            "text/plain": [
              "tokenizer.json:   0%|          | 0.00/466k [00:00<?, ?B/s]"
            ],
            "application/vnd.jupyter.widget-view+json": {
              "version_major": 2,
              "version_minor": 0,
              "model_id": "937d1cd75b7143a195334b8504b4ce38"
            }
          },
          "metadata": {}
        },
        {
          "output_type": "display_data",
          "data": {
            "text/plain": [
              "config.json:   0%|          | 0.00/570 [00:00<?, ?B/s]"
            ],
            "application/vnd.jupyter.widget-view+json": {
              "version_major": 2,
              "version_minor": 0,
              "model_id": "af82e10e87884893b6ee10fe3f816765"
            }
          },
          "metadata": {}
        },
        {
          "output_type": "stream",
          "name": "stderr",
          "text": [
            "/usr/local/lib/python3.10/dist-packages/transformers/tokenization_utils_base.py:1601: FutureWarning: `clean_up_tokenization_spaces` was not set. It will be set to `True` by default. This behavior will be depracted in transformers v4.45, and will be then set to `False` by default. For more details check this issue: https://github.com/huggingface/transformers/issues/31884\n",
            "  warnings.warn(\n"
          ]
        }
      ],
      "source": [
        "import torch\n",
        "import numpy as np\n",
        "from transformers import BertTokenizer\n",
        "import pandas as pd\n",
        "import torch.nn as nn\n",
        "from torch.optim import Adam\n",
        "from tqdm import tqdm\n",
        "from transformers import BertModel\n",
        "from torch.nn.utils.rnn import pad_sequence\n",
        "\n",
        "\n",
        "tokenizer = BertTokenizer.from_pretrained('bert-base-uncased', attn_implementation=\"eager\")\n",
        "\n",
        "labels = {\n",
        "    '0': 0,\n",
        "    '1': 1\n",
        "}\n",
        "\n",
        "class Dataset(torch.utils.data.Dataset):\n",
        "\n",
        "    def __init__(self, df, max_length=512):\n",
        "        self.max_length = max_length\n",
        "\n",
        "        self.labels = []\n",
        "        self.texts = []\n",
        "\n",
        "        for idx, text in enumerate(df['text']):\n",
        "            # Check if text is valid and not NaN\n",
        "            if isinstance(text, str) and text:\n",
        "                # Only process non-empty and valid string text\n",
        "                # Tokenize and chunk the text into manageable parts\n",
        "                tokenized_text = tokenizer.encode_plus(\n",
        "                    text,\n",
        "                    padding='max_length',\n",
        "                    max_length=self.max_length,\n",
        "                    truncation=True,\n",
        "                    return_tensors=\"pt\",\n",
        "                    return_overflowing_tokens=True,\n",
        "                    stride=self.max_length - 128  # Adjust the stride as needed\n",
        "                )\n",
        "\n",
        "                # Extract individual chunks from tokenized_text\n",
        "                for i in range(len(tokenized_text['input_ids'])):\n",
        "                    chunk = {}\n",
        "                    for key in tokenized_text.keys():\n",
        "                        chunk[key] = tokenized_text[key][i]\n",
        "                    self.texts.append(chunk)\n",
        "                    self.labels.append(labels[df['label'].astype(str).iloc[idx]])  # Append corresponding label\n",
        "\n",
        "        if len(self.labels) != len(self.texts):\n",
        "            raise ValueError(\"Mismatch between number of texts and labels.\")\n",
        "\n",
        "    def __len__(self):\n",
        "        return len(self.texts)\n",
        "\n",
        "    def __getitem__(self, idx):\n",
        "        batch_texts = self.texts[idx]\n",
        "        batch_y = self.labels[idx]\n",
        "        return batch_texts, batch_y"
      ]
    },
    {
      "cell_type": "markdown",
      "source": [
        "The stride=self.max_length - 128 ensures that chunks will overlap (128 tokens), which can be useful for preserving context between chunks. This overlap helps maintain continuity in long sequences."
      ],
      "metadata": {
        "id": "IsMoTF1BAmhg"
      }
    },
    {
      "cell_type": "code",
      "source": [
        "class BertClassifier(nn.Module):\n",
        "\n",
        "    def __init__(self, num_classes,dropout=0.5):\n",
        "\n",
        "        super(BertClassifier, self).__init__()\n",
        "\n",
        "        self.bert = BertModel.from_pretrained('bert-base-uncased')\n",
        "        self.dropout = nn.Dropout(0.1)\n",
        "        self.fc = nn.Linear(self.bert.config.hidden_size, num_classes)\n",
        "        self.cls_embedding = None\n",
        "\n",
        "\n",
        "    def forward(self, input_ids, attention_mask):\n",
        "\n",
        "        outputs = self.bert(input_ids=input_ids, attention_mask=attention_mask)\n",
        "        pooled_output = outputs.pooler_output\n",
        "        self.cls_embedding = outputs.last_hidden_state[:, 0, :]  # Extract CLS token embedding (first token)\n",
        "\n",
        "        x = self.dropout(pooled_output)\n",
        "        logits = self.fc(x)\n",
        "        return logits"
      ],
      "metadata": {
        "id": "E_9WSnv2NFNA"
      },
      "execution_count": null,
      "outputs": []
    },
    {
      "cell_type": "markdown",
      "source": [
        "Usage in Fine-tuning:\n",
        "If you are directly using the output of the [CLS] token for classification, both approaches can be used. However, pooler_output is generally favored as it is more directly tailored for downstream tasks, having passed through additional processing.\n",
        "On the other hand, last_hidden_state[:, 0, :] is often used when you're interested in the unprocessed or raw embedding of the [CLS] token, which may sometimes contain more nuanced information that you want to process yourself\n"
      ],
      "metadata": {
        "id": "otaPPJ3J_d4s"
      }
    },
    {
      "cell_type": "markdown",
      "source": [
        "Using outputs.pooler_output may slightly improve your performance, as it's already processed for such tasks."
      ],
      "metadata": {
        "id": "ftWuA0ND_j4v"
      }
    },
    {
      "cell_type": "code",
      "source": [
        "import torch\n",
        "from torch.utils.data import DataLoader\n",
        "from torch.nn.utils.rnn import pad_sequence\n",
        "from torch.optim import Adam\n",
        "from tqdm import tqdm\n",
        "import torch.nn as nn\n",
        "\n",
        "class EarlyStopping:\n",
        "    def __init__(self, patience=5, verbose=False):\n",
        "        self.patience = patience\n",
        "        self.verbose = verbose\n",
        "        self.best_loss = float('inf')\n",
        "        self.counter = 0\n",
        "        self.early_stop = False\n",
        "\n",
        "    def __call__(self, val_loss):\n",
        "        if val_loss < self.best_loss:\n",
        "            self.best_loss = val_loss\n",
        "            self.counter = 0\n",
        "        else:\n",
        "            self.counter += 1\n",
        "            if self.counter >= self.patience:\n",
        "                self.early_stop = True\n",
        "                if self.verbose:\n",
        "                    print(f\"Early stopping triggered after {self.patience} epochs without improvement.\")\n",
        "\n",
        "def train(model, train_data, val_data, learning_rate, epochs):\n",
        "    train, val = Dataset(train_data), Dataset(val_data)\n",
        "\n",
        "    def collate_fn(batch):\n",
        "        texts, labels = zip(*batch)\n",
        "        input_ids = pad_sequence([t['input_ids'] for t in texts], batch_first=True, padding_value=tokenizer.pad_token_id)\n",
        "        attention_mask = pad_sequence([t['attention_mask'] for t in texts], batch_first=True, padding_value=0)\n",
        "        return {'input_ids': input_ids, 'attention_mask': attention_mask}, torch.tensor(labels)\n",
        "\n",
        "    train_dataloader = DataLoader(train, batch_size=2, shuffle=True, collate_fn=collate_fn, num_workers=2)\n",
        "    val_dataloader = DataLoader(val, batch_size=2, collate_fn=collate_fn, num_workers=2)\n",
        "\n",
        "    device = torch.device(\"cuda\" if torch.cuda.is_available() else \"cpu\")\n",
        "    model.to(device)\n",
        "\n",
        "    criterion = nn.CrossEntropyLoss().to(device)\n",
        "    optimizer = Adam(model.parameters(), lr=learning_rate)\n",
        "\n",
        "    cls_embeddings_with_text_train = []\n",
        "    cls_embeddings_with_text_val = []\n",
        "\n",
        "    early_stopping = EarlyStopping(patience=5, verbose=True)\n",
        "\n",
        "    # Gradient accumulation steps\n",
        "    accumulation_steps = 4  # Adjust this based on your needs\n",
        "\n",
        "    for epoch_num in range(epochs):\n",
        "        total_acc_train, total_loss_train = 0, 0\n",
        "        model.train()\n",
        "\n",
        "        for i, (train_input, train_label) in enumerate(tqdm(train_dataloader)):\n",
        "            train_label = train_label.to(device)\n",
        "            mask = train_input['attention_mask'].to(device)\n",
        "            input_id = train_input['input_ids'].to(device)\n",
        "\n",
        "            output = model(input_id, mask)\n",
        "            batch_loss = criterion(output, train_label.long())\n",
        "            total_loss_train += batch_loss.item()\n",
        "\n",
        "            acc = (output.argmax(dim=1) == train_label).sum().item()\n",
        "            total_acc_train += acc\n",
        "\n",
        "            # Normalize loss to account for accumulation\n",
        "            batch_loss = batch_loss / accumulation_steps\n",
        "            batch_loss.backward()\n",
        "\n",
        "            if (i + 1) % accumulation_steps == 0:\n",
        "\n",
        "                optimizer.step()\n",
        "                optimizer.zero_grad()\n",
        "\n",
        "            cls_embeddings_with_text_train.extend(zip(\n",
        "                [tokenizer.decode(ids, skip_special_tokens=True) for ids in input_id],\n",
        "                model.cls_embedding,\n",
        "                train_label.cpu().numpy()\n",
        "            ))\n",
        "\n",
        "        # Validation loop\n",
        "        total_acc_val, total_loss_val = 0, 0\n",
        "        model.eval()\n",
        "\n",
        "        with torch.no_grad():\n",
        "            for val_input, val_label in val_dataloader:\n",
        "                val_label = val_label.to(device)\n",
        "                mask = val_input['attention_mask'].to(device)\n",
        "                input_id = val_input['input_ids'].to(device)\n",
        "\n",
        "                output = model(input_id, mask)\n",
        "                batch_loss = criterion(output, val_label.long())\n",
        "                total_loss_val += batch_loss.item()\n",
        "\n",
        "                acc = (output.argmax(dim=1) == val_label).sum().item()\n",
        "                total_acc_val += acc\n",
        "\n",
        "                cls_embeddings_with_text_val.extend(zip(\n",
        "                    [tokenizer.decode(ids, skip_special_tokens=True) for ids in input_id],\n",
        "                    output,\n",
        "                    val_label.cpu().numpy()\n",
        "                ))\n",
        "\n",
        "        # Calculate average losses and accuracies\n",
        "        avg_train_loss = total_loss_train / len(train_dataloader)\n",
        "        avg_train_acc = total_acc_train / len(train_data)\n",
        "        avg_val_loss = total_loss_val / len(val_dataloader)\n",
        "        avg_val_acc = total_acc_val / len(val_data)\n",
        "\n",
        "        print(f'Epochs: {epoch_num + 1} | Train Loss: {avg_train_loss:.3f} | Train Accuracy: {avg_train_acc:.3f} | Val Loss: {avg_val_loss:.3f} | Val Accuracy: {avg_val_acc:.3f}')\n",
        "\n",
        "        # Check for early stopping\n",
        "        early_stopping(avg_val_loss)\n",
        "        if early_stopping.early_stop:\n",
        "            print(\"Stopping training early!\")\n",
        "            break\n",
        "\n",
        "    return cls_embeddings_with_text_train, cls_embeddings_with_text_val\n"
      ],
      "metadata": {
        "id": "CX6rjKRiNOOi"
      },
      "execution_count": null,
      "outputs": []
    },
    {
      "cell_type": "markdown",
      "source": [
        "ccumulation_steps = 4  # Adjust this based on your needs"
      ],
      "metadata": {
        "id": "WkcHBk2DFQng"
      }
    },
    {
      "cell_type": "code",
      "source": [
        "def collate_fn(batch):\n",
        "    texts, labels = zip(*batch)\n",
        "\n",
        "    # Filter out empty tensors\n",
        "    input_ids = [t['input_ids'] for t in texts if t['input_ids'].numel() > 0]\n",
        "    attention_mask = [t['attention_mask'] for t in texts if t['attention_mask'].numel() > 0]\n",
        "\n",
        "    if not input_ids:  # Check if input_ids is empty\n",
        "        return None\n",
        "\n",
        "    # Pad input_ids and attention_mask\n",
        "    input_ids = pad_sequence(input_ids, batch_first=True, padding_value=tokenizer.pad_token_id)\n",
        "    attention_mask = pad_sequence(attention_mask, batch_first=True, padding_value=0)\n",
        "\n",
        "    # Create a new batch with padded sequences\n",
        "    padded_batch = [{'input_ids': input_ids, 'attention_mask': attention_mask}, torch.tensor(labels)]\n",
        "    return padded_batch\n",
        "\n",
        "\n",
        "def evaluate_testset(model, test_data):\n",
        "    test = Dataset(test_data)\n",
        "\n",
        "    test_dataloader = torch.utils.data.DataLoader(test, batch_size=1)\n",
        "\n",
        "\n",
        "    use_cuda = torch.cuda.is_available()\n",
        "    device = torch.device(\"cuda\" if use_cuda else \"cpu\")\n",
        "\n",
        "    if use_cuda:\n",
        "        model = model.to(device)\n",
        "\n",
        "    total_acc_test = 0\n",
        "    cls_embeddings = []\n",
        "\n",
        "    with torch.no_grad():\n",
        "        for test_input, test_label in test_dataloader:\n",
        "           # print(test_input)\n",
        "            if test_input is None:  # Skip any empty batches\n",
        "                continue\n",
        "\n",
        "            test_label = test_label.to(device)\n",
        "            mask = test_input['attention_mask'].squeeze(1).to(device)\n",
        "            input_id = test_input['input_ids'].squeeze(1).to(device)\n",
        "\n",
        "            output = model(input_id, mask)\n",
        "            cls_embedding = model.cls_embedding\n",
        "\n",
        "            labels = [label for label in test_label]\n",
        "            decoded_texts = [tokenizer.decode(ids, skip_special_tokens=True) for ids in input_id]\n",
        "\n",
        "            for text, embedding, label in zip(decoded_texts, cls_embedding, labels):\n",
        "                cls_embeddings.append((text, embedding, label))\n",
        "\n",
        "            acc = (output.argmax(dim=1) == test_label).sum().item()\n",
        "            total_acc_test += acc\n",
        "\n",
        "    print(f'Test Accuracy: {total_acc_test / len(test_data): .3f}')\n",
        "    return cls_embeddings\n"
      ],
      "metadata": {
        "id": "7WPeoDfuNhfG"
      },
      "execution_count": null,
      "outputs": []
    },
    {
      "cell_type": "code",
      "source": [
        "np.random.seed(112)\n",
        "train_df, val_df, test_df_2 = np.split(merged_df.sample(frac=1, random_state=42),\n",
        "                                     [int(.8*len(merged_df)), int(.9*len(merged_df))])\n",
        "\n",
        "print(len(train_df),len(val_df), len(test_df_2))\n",
        "\n",
        "EPOCHS = 20\n",
        "num_classes = 2\n",
        "model = BertClassifier(num_classes=num_classes)\n",
        "LR = 1e-05\n",
        "\n",
        "cls_embeddings_with_text_train,cls_embeddings_with_text_val = train(model, train_df, val_df, LR, EPOCHS)"
      ],
      "metadata": {
        "colab": {
          "base_uri": "https://localhost:8080/"
        },
        "id": "9n025DFrNkYc",
        "outputId": "ebd4545f-bfc1-4070-815d-d00ed49d9efa"
      },
      "execution_count": null,
      "outputs": [
        {
          "output_type": "stream",
          "name": "stderr",
          "text": [
            "/usr/local/lib/python3.10/dist-packages/numpy/core/fromnumeric.py:59: FutureWarning: 'DataFrame.swapaxes' is deprecated and will be removed in a future version. Please use 'DataFrame.transpose' instead.\n",
            "  return bound(*args, **kwds)\n"
          ]
        },
        {
          "output_type": "stream",
          "name": "stdout",
          "text": [
            "1072 134 135\n"
          ]
        },
        {
          "output_type": "stream",
          "name": "stderr",
          "text": [
            "100%|██████████| 534/534 [00:33<00:00, 15.76it/s]\n"
          ]
        },
        {
          "output_type": "stream",
          "name": "stdout",
          "text": [
            "Epochs: 1 | Train Loss: 0.517 | Train Accuracy: 0.745 | Val Loss: 0.361 | Val Accuracy: 0.858\n"
          ]
        },
        {
          "output_type": "stream",
          "name": "stderr",
          "text": [
            "100%|██████████| 534/534 [00:33<00:00, 15.82it/s]\n"
          ]
        },
        {
          "output_type": "stream",
          "name": "stdout",
          "text": [
            "Epochs: 2 | Train Loss: 0.268 | Train Accuracy: 0.902 | Val Loss: 0.288 | Val Accuracy: 0.881\n"
          ]
        },
        {
          "output_type": "stream",
          "name": "stderr",
          "text": [
            "100%|██████████| 534/534 [00:33<00:00, 15.81it/s]\n"
          ]
        },
        {
          "output_type": "stream",
          "name": "stdout",
          "text": [
            "Epochs: 3 | Train Loss: 0.152 | Train Accuracy: 0.951 | Val Loss: 0.321 | Val Accuracy: 0.888\n"
          ]
        },
        {
          "output_type": "stream",
          "name": "stderr",
          "text": [
            "100%|██████████| 534/534 [00:33<00:00, 15.80it/s]\n"
          ]
        },
        {
          "output_type": "stream",
          "name": "stdout",
          "text": [
            "Epochs: 4 | Train Loss: 0.085 | Train Accuracy: 0.971 | Val Loss: 0.252 | Val Accuracy: 0.896\n"
          ]
        },
        {
          "output_type": "stream",
          "name": "stderr",
          "text": [
            "100%|██████████| 534/534 [00:33<00:00, 15.79it/s]\n"
          ]
        },
        {
          "output_type": "stream",
          "name": "stdout",
          "text": [
            "Epochs: 5 | Train Loss: 0.046 | Train Accuracy: 0.983 | Val Loss: 0.239 | Val Accuracy: 0.903\n"
          ]
        },
        {
          "output_type": "stream",
          "name": "stderr",
          "text": [
            "100%|██████████| 534/534 [00:33<00:00, 15.77it/s]\n"
          ]
        },
        {
          "output_type": "stream",
          "name": "stdout",
          "text": [
            "Epochs: 6 | Train Loss: 0.028 | Train Accuracy: 0.989 | Val Loss: 0.305 | Val Accuracy: 0.888\n"
          ]
        },
        {
          "output_type": "stream",
          "name": "stderr",
          "text": [
            "100%|██████████| 534/534 [00:33<00:00, 15.78it/s]\n"
          ]
        },
        {
          "output_type": "stream",
          "name": "stdout",
          "text": [
            "Epochs: 7 | Train Loss: 0.008 | Train Accuracy: 0.994 | Val Loss: 0.219 | Val Accuracy: 0.918\n"
          ]
        },
        {
          "output_type": "stream",
          "name": "stderr",
          "text": [
            "100%|██████████| 534/534 [00:34<00:00, 15.68it/s]\n"
          ]
        },
        {
          "output_type": "stream",
          "name": "stdout",
          "text": [
            "Epochs: 8 | Train Loss: 0.005 | Train Accuracy: 0.994 | Val Loss: 0.326 | Val Accuracy: 0.881\n"
          ]
        },
        {
          "output_type": "stream",
          "name": "stderr",
          "text": [
            "100%|██████████| 534/534 [00:33<00:00, 15.78it/s]\n"
          ]
        },
        {
          "output_type": "stream",
          "name": "stdout",
          "text": [
            "Epochs: 9 | Train Loss: 0.006 | Train Accuracy: 0.994 | Val Loss: 0.261 | Val Accuracy: 0.933\n"
          ]
        },
        {
          "output_type": "stream",
          "name": "stderr",
          "text": [
            "100%|██████████| 534/534 [00:33<00:00, 15.73it/s]\n"
          ]
        },
        {
          "output_type": "stream",
          "name": "stdout",
          "text": [
            "Epochs: 10 | Train Loss: 0.002 | Train Accuracy: 0.995 | Val Loss: 0.261 | Val Accuracy: 0.933\n"
          ]
        },
        {
          "output_type": "stream",
          "name": "stderr",
          "text": [
            "100%|██████████| 534/534 [00:33<00:00, 15.75it/s]\n"
          ]
        },
        {
          "output_type": "stream",
          "name": "stdout",
          "text": [
            "Epochs: 11 | Train Loss: 0.002 | Train Accuracy: 0.995 | Val Loss: 0.268 | Val Accuracy: 0.933\n"
          ]
        },
        {
          "output_type": "stream",
          "name": "stderr",
          "text": [
            "100%|██████████| 534/534 [00:33<00:00, 15.73it/s]\n"
          ]
        },
        {
          "output_type": "stream",
          "name": "stdout",
          "text": [
            "Epochs: 12 | Train Loss: 0.002 | Train Accuracy: 0.995 | Val Loss: 0.302 | Val Accuracy: 0.925\n",
            "Early stopping triggered after 5 epochs without improvement.\n",
            "Stopping training early!\n"
          ]
        }
      ]
    },
    {
      "cell_type": "code",
      "source": [
        "test_df_3 = test_df_2[['text','label']]\n"
      ],
      "metadata": {
        "id": "Pb7jwrOhHZwv"
      },
      "execution_count": null,
      "outputs": []
    },
    {
      "cell_type": "code",
      "source": [
        "cls_embeddings_test = evaluate_testset(model, test_df_2)"
      ],
      "metadata": {
        "colab": {
          "base_uri": "https://localhost:8080/"
        },
        "id": "h_3lXGeJG1x7",
        "outputId": "ce68485f-093d-4ea8-90be-84f8ff0f1beb"
      },
      "execution_count": null,
      "outputs": [
        {
          "output_type": "stream",
          "name": "stdout",
          "text": [
            "Test Accuracy:  0.904\n"
          ]
        }
      ]
    },
    {
      "cell_type": "code",
      "source": [
        "tensors_list_beginner =  [t[1] for t in cls_embeddings_with_text_train if t[2].item() == 0]\n",
        "tensors_list_expert =  [t[1] for t in cls_embeddings_with_text_train if t[2].item() == 1]\n",
        "mean_tensor_beginner = torch.mean(torch.stack(tensors_list_beginner), dim=0)\n",
        "mean_tensor_expert = torch.mean(torch.stack(tensors_list_expert), dim=0)"
      ],
      "metadata": {
        "id": "pzkTwO4enaj9"
      },
      "execution_count": null,
      "outputs": []
    },
    {
      "cell_type": "code",
      "source": [
        "from sklearn.metrics.pairwise import cosine_similarity\n",
        "correct = 0\n",
        "beginner_correct = 0\n",
        "expert_correct = 0\n",
        "for t in cls_embeddings_test :\n",
        "  #print(t[2].item())\n",
        "  #print(t[1][0][:20])\n",
        "\n",
        "\n",
        "  if t[2].item() == 0 :\n",
        "    truth = \"beginner\"\n",
        "\n",
        "  else :\n",
        "    truth = \"expert\"\n",
        "\n",
        "\n",
        "  #cls_vector1_normalized = t[1][0].cpu().detach().numpy() / np.linalg.norm(t[1][0].cpu().detach().numpy())\n",
        "  cls_vector1_normalized = t[1].cpu().detach().numpy() / np.linalg.norm(t[1].cpu().detach().numpy())\n",
        "  cls_vector2_normalized = mean_tensor_beginner.cpu().detach().numpy() / np.linalg.norm(mean_tensor_beginner.cpu().detach().numpy())\n",
        "\n",
        "# Then, calculate cosine similarity\n",
        "  similarity_beg = cosine_similarity([cls_vector1_normalized], [cls_vector2_normalized])[0][0]\n",
        "\n",
        "  #print(\"Cosine Similarity beginner:\", similarity)\n",
        "\n",
        "# Assuming cls_vector1 and cls_vector2 are your CLS vectors\n",
        "# First, normalize the vectors\n",
        "  #cls_vector1_normalized = t[1][0].cpu().detach().numpy() / np.linalg.norm(t[1][0].cpu().detach().numpy())\n",
        "  cls_vector1_normalized = t[1].cpu().detach().numpy() / np.linalg.norm(t[1].cpu().detach().numpy())\n",
        "  cls_vector2_normalized = mean_tensor_expert.cpu().detach().numpy() / np.linalg.norm(mean_tensor_expert.cpu().detach().numpy())\n",
        "\n",
        "# Then, calculate cosine similarity\n",
        "  similarity_expert = cosine_similarity([cls_vector1_normalized], [cls_vector2_normalized])[0][0]\n",
        "\n",
        "  #print(\"Cosine Similarity expert:\", similarity)\n",
        "\n",
        "\n",
        "  if similarity_beg > similarity_expert and truth == \"beginner\" :\n",
        "    beginner_correct += 1\n",
        "    correct += 1\n",
        "  elif similarity_beg < similarity_expert and truth == \"expert\" :\n",
        "    expert_correct += 1\n",
        "    correct += 1\n",
        "\n",
        "print(\"correct : \", correct/len(cls_embeddings_test),\"\\n\")\n",
        "print(\"beginner correct : \", beginner_correct/len(test_df_2[test_df_2['label'] == 0]),\"\\n\")\n",
        "print(\"expert correct : \", expert_correct/len(test_df_2[test_df_2['label'] == 1]),\"\\n\")"
      ],
      "metadata": {
        "colab": {
          "base_uri": "https://localhost:8080/"
        },
        "id": "JmHN-fFKnmet",
        "outputId": "2b3a231f-7bb4-4865-d85b-a31ccd89b3a2"
      },
      "execution_count": null,
      "outputs": [
        {
          "output_type": "stream",
          "name": "stdout",
          "text": [
            "correct :  0.9185185185185185 \n",
            "\n",
            "beginner correct :  0.9186046511627907 \n",
            "\n",
            "expert correct :  0.9183673469387755 \n",
            "\n"
          ]
        }
      ]
    },
    {
      "cell_type": "markdown",
      "source": [
        "#GRID SEARCH _ ANALYSE EXPLORATOIRE POUR OBTENTION DE BONS PARAMETRES D'ENTRAINEMENTS"
      ],
      "metadata": {
        "id": "LDcGoK0jCDzm"
      }
    },
    {
      "cell_type": "code",
      "source": [
        "import torch\n",
        "import numpy as np\n",
        "from transformers import BertTokenizer\n",
        "import pandas as pd\n",
        "import torch.nn as nn\n",
        "from torch.optim import Adam\n",
        "from tqdm import tqdm\n",
        "from transformers import BertModel\n",
        "from torch.nn.utils.rnn import pad_sequence\n",
        "\n",
        "\n",
        "tokenizer = BertTokenizer.from_pretrained('bert-base-uncased', output_attentions=True, attn_implementation=\"eager\")\n",
        "\n",
        "labels = {\n",
        "    '0': 0,\n",
        "    '1': 1\n",
        "}\n",
        "\n",
        "class Dataset(torch.utils.data.Dataset):\n",
        "\n",
        "    def __init__(self, df, max_length=512, chunking_strategy=\"longest_first\"):\n",
        "        self.max_length = max_length\n",
        "        self.chunking_strategy = chunking_strategy\n",
        "\n",
        "        self.labels = []\n",
        "        self.texts = []\n",
        "\n",
        "        for idx, text in enumerate(df['text']):\n",
        "            if isinstance(text, str) and text:\n",
        "                tokenized_text = tokenizer.encode_plus(\n",
        "                    text,\n",
        "                    padding='max_length',\n",
        "                    max_length=self.max_length,\n",
        "                    truncation=True,\n",
        "                    return_tensors=\"pt\",\n",
        "                    return_overflowing_tokens=True,\n",
        "                    stride=self.max_length - 128\n",
        "                )\n",
        "\n",
        "                for i in range(len(tokenized_text['input_ids'])):\n",
        "                    chunk = {}\n",
        "                    for key in tokenized_text.keys():\n",
        "                        chunk[key] = tokenized_text[key][i]\n",
        "                    self.texts.append(chunk)\n",
        "                    self.labels.append(labels[df['label'].astype(str).iloc[idx]])\n",
        "\n",
        "        if len(self.labels) != len(self.texts):\n",
        "            raise ValueError(\"Mismatch between number of texts and labels.\")\n",
        "\n",
        "    def __len__(self):\n",
        "        return len(self.texts)\n",
        "\n",
        "    def __getitem__(self, idx):\n",
        "        batch_texts = self.texts[idx]\n",
        "        batch_y = self.labels[idx]\n",
        "        return batch_texts, batch_y\n",
        "\n",
        "\n",
        "class BertClassifier(nn.Module):\n",
        "\n",
        "    def __init__(self, num_classes, dropout=0.5):\n",
        "        super(BertClassifier, self).__init__()\n",
        "        self.bert = BertModel.from_pretrained('bert-base-uncased', output_attentions=True, attn_implementation=\"eager\")\n",
        "        self.dropout = nn.Dropout(dropout)\n",
        "        self.fc = nn.Linear(self.bert.config.hidden_size, num_classes)\n",
        "\n",
        "    def forward(self, input_ids, attention_mask):\n",
        "        outputs = self.bert(input_ids=input_ids, attention_mask=attention_mask)\n",
        "        pooled_output = outputs.pooler_output\n",
        "        x = self.dropout(pooled_output)\n",
        "        logits = self.fc(x)\n",
        "        return logits\n",
        "\n",
        "\n",
        "class EarlyStopping:\n",
        "    def __init__(self, patience=5, verbose=False):\n",
        "        self.patience = patience\n",
        "        self.verbose = verbose\n",
        "        self.best_loss = float('inf')\n",
        "        self.counter = 0\n",
        "        self.early_stop = False\n",
        "\n",
        "    def __call__(self, val_loss):\n",
        "        if val_loss < self.best_loss:\n",
        "            self.best_loss = val_loss\n",
        "            self.counter = 0\n",
        "        else:\n",
        "            self.counter += 1\n",
        "            if self.counter >= self.patience:\n",
        "                self.early_stop = True\n",
        "                if self.verbose:\n",
        "                    print(f\"Early stopping triggered after {self.patience} epochs without improvement.\")\n",
        "\n",
        "def train(model, train_data, val_data, learning_rate, epochs):\n",
        "    train, val = Dataset(train_data), Dataset(val_data)\n",
        "\n",
        "    def collate_fn(batch):\n",
        "        texts, labels = zip(*batch)\n",
        "        input_ids = pad_sequence([t['input_ids'] for t in texts], batch_first=True, padding_value=tokenizer.pad_token_id)\n",
        "        attention_mask = pad_sequence([t['attention_mask'] for t in texts], batch_first=True, padding_value=0)\n",
        "        return {'input_ids': input_ids, 'attention_mask': attention_mask}, torch.tensor(labels)\n",
        "\n",
        "    train_dataloader = DataLoader(train, batch_size=1, shuffle=True, collate_fn=collate_fn, num_workers=2)\n",
        "    val_dataloader = DataLoader(val, batch_size=1, collate_fn=collate_fn, num_workers=2)\n",
        "\n",
        "    device = torch.device(\"cuda\" if torch.cuda.is_available() else \"cpu\")\n",
        "    model.to(device)\n",
        "\n",
        "    criterion = nn.CrossEntropyLoss().to(device)\n",
        "    optimizer = Adam(model.parameters(), lr=learning_rate)\n",
        "\n",
        "    early_stopping = EarlyStopping(patience=5, verbose=True)\n",
        "\n",
        "    for epoch_num in range(epochs):\n",
        "        total_acc_train, total_loss_train = 0, 0\n",
        "        model.train()\n",
        "\n",
        "        for train_input, train_label in tqdm(train_dataloader, desc=\"Training Batches\", leave=False):\n",
        "            train_label = train_label.to(device)\n",
        "            mask = train_input['attention_mask'].to(device)\n",
        "            input_id = train_input['input_ids'].to(device)\n",
        "\n",
        "            output = model(input_id, mask)\n",
        "            batch_loss = criterion(output, train_label.long())\n",
        "            total_loss_train += batch_loss.item()\n",
        "\n",
        "            acc = (output.argmax(dim=1) == train_label).sum().item()\n",
        "            total_acc_train += acc\n",
        "\n",
        "            optimizer.zero_grad()\n",
        "            batch_loss.backward()\n",
        "            optimizer.step()\n",
        "\n",
        "        total_acc_val, total_loss_val = 0, 0\n",
        "        model.eval()\n",
        "\n",
        "        with torch.no_grad():\n",
        "            for val_input, val_label in val_dataloader:\n",
        "                val_label = val_label.to(device)\n",
        "                mask = val_input['attention_mask'].to(device)\n",
        "                input_id = val_input['input_ids'].to(device)\n",
        "\n",
        "                output = model(input_id, mask)\n",
        "                batch_loss = criterion(output, val_label.long())\n",
        "                total_loss_val += batch_loss.item()\n",
        "\n",
        "                acc = (output.argmax(dim=1) == val_label).sum().item()\n",
        "                total_acc_val += acc\n",
        "\n",
        "        avg_train_loss = total_loss_train / len(train_dataloader)\n",
        "        avg_train_acc = total_acc_train / len(train_data)\n",
        "        avg_val_loss = total_loss_val / len(val_dataloader)\n",
        "        avg_val_acc = total_acc_val / len(val_data)\n",
        "\n",
        "        print(f'Epoch: {epoch_num + 1} | Train Loss: {avg_train_loss:.3f} | Train Accuracy: {avg_train_acc:.3f} | Val Loss: {avg_val_loss:.3f} | Val Accuracy: {avg_val_acc:.3f}')\n",
        "\n",
        "        early_stopping(avg_val_loss)\n",
        "        if early_stopping.early_stop:\n",
        "            print(\"Stopping training early!\")\n",
        "            break\n",
        "\n",
        "    return avg_val_loss, avg_val_acc\n",
        "\n",
        "# Define hyperparameter grid\n",
        "learning_rates = [1e-5, 2e-5, 3e-5]\n",
        "dropouts = [0.1, 0.3, 0.5]\n",
        "EPOCHS = 5\n",
        "num_classes = 2\n",
        "\n",
        "best_val_loss = float('inf')\n",
        "best_params = {}\n",
        "\n",
        "# Grid search with tqdm\n",
        "for lr in learning_rates:\n",
        "    for dropout in dropouts:\n",
        "        print(f\"Training with LR: {lr} and Dropout: {dropout}\")\n",
        "        model = BertClassifier(num_classes=num_classes, dropout=dropout)\n",
        "        val_loss, val_acc = train(model, train_df, val_df, lr, EPOCHS)\n",
        "\n",
        "        # Save the best parameters based on validation loss\n",
        "        if val_loss < best_val_loss:\n",
        "            best_val_loss = val_loss\n",
        "            best_params = {'learning_rate': lr, 'dropout': dropout}\n",
        "\n",
        "print(f\"Best parameters: {best_params} with validation loss: {best_val_loss:.4f}\")\n"
      ],
      "metadata": {
        "colab": {
          "base_uri": "https://localhost:8080/"
        },
        "id": "1FHXMF61Db0w",
        "outputId": "3132dc9e-baf8-4e40-b5d9-cfcbe5b294f0"
      },
      "execution_count": null,
      "outputs": [
        {
          "output_type": "stream",
          "name": "stderr",
          "text": [
            "/usr/local/lib/python3.10/dist-packages/transformers/tokenization_utils_base.py:1601: FutureWarning: `clean_up_tokenization_spaces` was not set. It will be set to `True` by default. This behavior will be depracted in transformers v4.45, and will be then set to `False` by default. For more details check this issue: https://github.com/huggingface/transformers/issues/31884\n",
            "  warnings.warn(\n"
          ]
        },
        {
          "output_type": "stream",
          "name": "stdout",
          "text": [
            "Training with LR: 1e-05 and Dropout: 0.1\n"
          ]
        },
        {
          "output_type": "stream",
          "name": "stderr",
          "text": []
        },
        {
          "output_type": "stream",
          "name": "stdout",
          "text": [
            "Epoch: 1 | Train Loss: 0.457 | Train Accuracy: 0.781 | Val Loss: 0.294 | Val Accuracy: 0.873\n"
          ]
        },
        {
          "output_type": "stream",
          "name": "stderr",
          "text": []
        },
        {
          "output_type": "stream",
          "name": "stdout",
          "text": [
            "Epoch: 2 | Train Loss: 0.212 | Train Accuracy: 0.916 | Val Loss: 0.219 | Val Accuracy: 0.903\n"
          ]
        },
        {
          "output_type": "stream",
          "name": "stderr",
          "text": []
        },
        {
          "output_type": "stream",
          "name": "stdout",
          "text": [
            "Epoch: 3 | Train Loss: 0.088 | Train Accuracy: 0.970 | Val Loss: 0.350 | Val Accuracy: 0.896\n"
          ]
        },
        {
          "output_type": "stream",
          "name": "stderr",
          "text": []
        },
        {
          "output_type": "stream",
          "name": "stdout",
          "text": [
            "Epoch: 4 | Train Loss: 0.074 | Train Accuracy: 0.974 | Val Loss: 0.262 | Val Accuracy: 0.925\n"
          ]
        },
        {
          "output_type": "stream",
          "name": "stderr",
          "text": []
        },
        {
          "output_type": "stream",
          "name": "stdout",
          "text": [
            "Epoch: 5 | Train Loss: 0.012 | Train Accuracy: 0.992 | Val Loss: 0.265 | Val Accuracy: 0.925\n",
            "Training with LR: 1e-05 and Dropout: 0.3\n"
          ]
        },
        {
          "output_type": "stream",
          "name": "stderr",
          "text": []
        },
        {
          "output_type": "stream",
          "name": "stdout",
          "text": [
            "Epoch: 1 | Train Loss: 0.407 | Train Accuracy: 0.821 | Val Loss: 0.285 | Val Accuracy: 0.881\n"
          ]
        },
        {
          "output_type": "stream",
          "name": "stderr",
          "text": []
        },
        {
          "output_type": "stream",
          "name": "stdout",
          "text": [
            "Epoch: 2 | Train Loss: 0.173 | Train Accuracy: 0.930 | Val Loss: 0.300 | Val Accuracy: 0.851\n"
          ]
        },
        {
          "output_type": "stream",
          "name": "stderr",
          "text": []
        },
        {
          "output_type": "stream",
          "name": "stdout",
          "text": [
            "Epoch: 3 | Train Loss: 0.083 | Train Accuracy: 0.969 | Val Loss: 0.217 | Val Accuracy: 0.896\n"
          ]
        },
        {
          "output_type": "stream",
          "name": "stderr",
          "text": []
        },
        {
          "output_type": "stream",
          "name": "stdout",
          "text": [
            "Epoch: 4 | Train Loss: 0.052 | Train Accuracy: 0.981 | Val Loss: 0.271 | Val Accuracy: 0.918\n"
          ]
        },
        {
          "output_type": "stream",
          "name": "stderr",
          "text": []
        },
        {
          "output_type": "stream",
          "name": "stdout",
          "text": [
            "Epoch: 5 | Train Loss: 0.045 | Train Accuracy: 0.979 | Val Loss: 0.435 | Val Accuracy: 0.858\n",
            "Training with LR: 1e-05 and Dropout: 0.5\n"
          ]
        },
        {
          "output_type": "stream",
          "name": "stderr",
          "text": []
        },
        {
          "output_type": "stream",
          "name": "stdout",
          "text": [
            "Epoch: 1 | Train Loss: 0.439 | Train Accuracy: 0.788 | Val Loss: 0.237 | Val Accuracy: 0.896\n"
          ]
        },
        {
          "output_type": "stream",
          "name": "stderr",
          "text": []
        },
        {
          "output_type": "stream",
          "name": "stdout",
          "text": [
            "Epoch: 2 | Train Loss: 0.170 | Train Accuracy: 0.939 | Val Loss: 0.338 | Val Accuracy: 0.888\n"
          ]
        },
        {
          "output_type": "stream",
          "name": "stderr",
          "text": []
        },
        {
          "output_type": "stream",
          "name": "stdout",
          "text": [
            "Epoch: 3 | Train Loss: 0.117 | Train Accuracy: 0.958 | Val Loss: 0.265 | Val Accuracy: 0.903\n"
          ]
        },
        {
          "output_type": "stream",
          "name": "stderr",
          "text": []
        },
        {
          "output_type": "stream",
          "name": "stdout",
          "text": [
            "Epoch: 4 | Train Loss: 0.029 | Train Accuracy: 0.988 | Val Loss: 0.271 | Val Accuracy: 0.903\n"
          ]
        },
        {
          "output_type": "stream",
          "name": "stderr",
          "text": []
        },
        {
          "output_type": "stream",
          "name": "stdout",
          "text": [
            "Epoch: 5 | Train Loss: 0.048 | Train Accuracy: 0.979 | Val Loss: 0.304 | Val Accuracy: 0.918\n",
            "Training with LR: 2e-05 and Dropout: 0.1\n"
          ]
        },
        {
          "output_type": "stream",
          "name": "stderr",
          "text": []
        },
        {
          "output_type": "stream",
          "name": "stdout",
          "text": [
            "Epoch: 1 | Train Loss: 0.426 | Train Accuracy: 0.800 | Val Loss: 0.261 | Val Accuracy: 0.866\n"
          ]
        },
        {
          "output_type": "stream",
          "name": "stderr",
          "text": []
        },
        {
          "output_type": "stream",
          "name": "stdout",
          "text": [
            "Epoch: 2 | Train Loss: 0.190 | Train Accuracy: 0.923 | Val Loss: 0.229 | Val Accuracy: 0.888\n"
          ]
        },
        {
          "output_type": "stream",
          "name": "stderr",
          "text": []
        },
        {
          "output_type": "stream",
          "name": "stdout",
          "text": [
            "Epoch: 3 | Train Loss: 0.073 | Train Accuracy: 0.969 | Val Loss: 0.337 | Val Accuracy: 0.881\n"
          ]
        },
        {
          "output_type": "stream",
          "name": "stderr",
          "text": []
        },
        {
          "output_type": "stream",
          "name": "stdout",
          "text": [
            "Epoch: 4 | Train Loss: 0.049 | Train Accuracy: 0.983 | Val Loss: 0.531 | Val Accuracy: 0.836\n"
          ]
        },
        {
          "output_type": "stream",
          "name": "stderr",
          "text": []
        },
        {
          "output_type": "stream",
          "name": "stdout",
          "text": [
            "Epoch: 5 | Train Loss: 0.023 | Train Accuracy: 0.988 | Val Loss: 0.595 | Val Accuracy: 0.888\n",
            "Training with LR: 2e-05 and Dropout: 0.3\n"
          ]
        },
        {
          "output_type": "stream",
          "name": "stderr",
          "text": []
        },
        {
          "output_type": "stream",
          "name": "stdout",
          "text": [
            "Epoch: 1 | Train Loss: 0.481 | Train Accuracy: 0.766 | Val Loss: 0.346 | Val Accuracy: 0.858\n"
          ]
        },
        {
          "output_type": "stream",
          "name": "stderr",
          "text": []
        },
        {
          "output_type": "stream",
          "name": "stdout",
          "text": [
            "Epoch: 2 | Train Loss: 0.254 | Train Accuracy: 0.904 | Val Loss: 0.327 | Val Accuracy: 0.873\n"
          ]
        },
        {
          "output_type": "stream",
          "name": "stderr",
          "text": []
        },
        {
          "output_type": "stream",
          "name": "stdout",
          "text": [
            "Epoch: 3 | Train Loss: 0.109 | Train Accuracy: 0.959 | Val Loss: 0.350 | Val Accuracy: 0.888\n"
          ]
        },
        {
          "output_type": "stream",
          "name": "stderr",
          "text": []
        },
        {
          "output_type": "stream",
          "name": "stdout",
          "text": [
            "Epoch: 4 | Train Loss: 0.086 | Train Accuracy: 0.966 | Val Loss: 0.359 | Val Accuracy: 0.896\n"
          ]
        },
        {
          "output_type": "stream",
          "name": "stderr",
          "text": []
        },
        {
          "output_type": "stream",
          "name": "stdout",
          "text": [
            "Epoch: 5 | Train Loss: 0.042 | Train Accuracy: 0.983 | Val Loss: 0.338 | Val Accuracy: 0.888\n",
            "Training with LR: 2e-05 and Dropout: 0.5\n"
          ]
        },
        {
          "output_type": "stream",
          "name": "stderr",
          "text": []
        },
        {
          "output_type": "stream",
          "name": "stdout",
          "text": [
            "Epoch: 1 | Train Loss: 0.507 | Train Accuracy: 0.762 | Val Loss: 0.282 | Val Accuracy: 0.873\n"
          ]
        },
        {
          "output_type": "stream",
          "name": "stderr",
          "text": []
        },
        {
          "output_type": "stream",
          "name": "stdout",
          "text": [
            "Epoch: 2 | Train Loss: 0.226 | Train Accuracy: 0.906 | Val Loss: 0.235 | Val Accuracy: 0.873\n"
          ]
        },
        {
          "output_type": "stream",
          "name": "stderr",
          "text": []
        },
        {
          "output_type": "stream",
          "name": "stdout",
          "text": [
            "Epoch: 3 | Train Loss: 0.126 | Train Accuracy: 0.957 | Val Loss: 0.419 | Val Accuracy: 0.858\n"
          ]
        },
        {
          "output_type": "stream",
          "name": "stderr",
          "text": []
        },
        {
          "output_type": "stream",
          "name": "stdout",
          "text": [
            "Epoch: 4 | Train Loss: 0.061 | Train Accuracy: 0.978 | Val Loss: 0.330 | Val Accuracy: 0.896\n"
          ]
        },
        {
          "output_type": "stream",
          "name": "stderr",
          "text": []
        },
        {
          "output_type": "stream",
          "name": "stdout",
          "text": [
            "Epoch: 5 | Train Loss: 0.042 | Train Accuracy: 0.983 | Val Loss: 0.348 | Val Accuracy: 0.925\n",
            "Training with LR: 3e-05 and Dropout: 0.1\n"
          ]
        },
        {
          "output_type": "stream",
          "name": "stderr",
          "text": []
        },
        {
          "output_type": "stream",
          "name": "stdout",
          "text": [
            "Epoch: 1 | Train Loss: 0.600 | Train Accuracy: 0.671 | Val Loss: 0.602 | Val Accuracy: 0.657\n"
          ]
        },
        {
          "output_type": "stream",
          "name": "stderr",
          "text": []
        },
        {
          "output_type": "stream",
          "name": "stdout",
          "text": [
            "Epoch: 2 | Train Loss: 0.678 | Train Accuracy: 0.579 | Val Loss: 0.663 | Val Accuracy: 0.642\n"
          ]
        },
        {
          "output_type": "stream",
          "name": "stderr",
          "text": []
        },
        {
          "output_type": "stream",
          "name": "stdout",
          "text": [
            "Epoch: 3 | Train Loss: 0.680 | Train Accuracy: 0.597 | Val Loss: 0.651 | Val Accuracy: 0.642\n"
          ]
        },
        {
          "output_type": "stream",
          "name": "stderr",
          "text": []
        },
        {
          "output_type": "stream",
          "name": "stdout",
          "text": [
            "Epoch: 4 | Train Loss: 0.681 | Train Accuracy: 0.592 | Val Loss: 0.648 | Val Accuracy: 0.642\n"
          ]
        },
        {
          "output_type": "stream",
          "name": "stderr",
          "text": []
        },
        {
          "output_type": "stream",
          "name": "stdout",
          "text": [
            "Epoch: 5 | Train Loss: 0.682 | Train Accuracy: 0.586 | Val Loss: 0.647 | Val Accuracy: 0.642\n",
            "Training with LR: 3e-05 and Dropout: 0.3\n"
          ]
        },
        {
          "output_type": "stream",
          "name": "stderr",
          "text": []
        },
        {
          "output_type": "stream",
          "name": "stdout",
          "text": [
            "Epoch: 1 | Train Loss: 0.489 | Train Accuracy: 0.776 | Val Loss: 0.378 | Val Accuracy: 0.821\n"
          ]
        },
        {
          "output_type": "stream",
          "name": "stderr",
          "text": []
        },
        {
          "output_type": "stream",
          "name": "stdout",
          "text": [
            "Epoch: 2 | Train Loss: 0.351 | Train Accuracy: 0.857 | Val Loss: 0.334 | Val Accuracy: 0.858\n"
          ]
        },
        {
          "output_type": "stream",
          "name": "stderr",
          "text": []
        },
        {
          "output_type": "stream",
          "name": "stdout",
          "text": [
            "Epoch: 3 | Train Loss: 0.240 | Train Accuracy: 0.913 | Val Loss: 0.429 | Val Accuracy: 0.843\n"
          ]
        },
        {
          "output_type": "stream",
          "name": "stderr",
          "text": []
        },
        {
          "output_type": "stream",
          "name": "stdout",
          "text": [
            "Epoch: 4 | Train Loss: 0.237 | Train Accuracy: 0.914 | Val Loss: 0.489 | Val Accuracy: 0.836\n"
          ]
        },
        {
          "output_type": "stream",
          "name": "stderr",
          "text": []
        },
        {
          "output_type": "stream",
          "name": "stdout",
          "text": [
            "Epoch: 5 | Train Loss: 0.165 | Train Accuracy: 0.938 | Val Loss: 0.452 | Val Accuracy: 0.761\n",
            "Training with LR: 3e-05 and Dropout: 0.5\n"
          ]
        },
        {
          "output_type": "stream",
          "name": "stderr",
          "text": []
        },
        {
          "output_type": "stream",
          "name": "stdout",
          "text": [
            "Epoch: 1 | Train Loss: 0.547 | Train Accuracy: 0.717 | Val Loss: 0.351 | Val Accuracy: 0.851\n"
          ]
        },
        {
          "output_type": "stream",
          "name": "stderr",
          "text": []
        },
        {
          "output_type": "stream",
          "name": "stdout",
          "text": [
            "Epoch: 2 | Train Loss: 0.327 | Train Accuracy: 0.881 | Val Loss: 0.433 | Val Accuracy: 0.851\n"
          ]
        },
        {
          "output_type": "stream",
          "name": "stderr",
          "text": []
        },
        {
          "output_type": "stream",
          "name": "stdout",
          "text": [
            "Epoch: 3 | Train Loss: 0.235 | Train Accuracy: 0.918 | Val Loss: 0.298 | Val Accuracy: 0.881\n"
          ]
        },
        {
          "output_type": "stream",
          "name": "stderr",
          "text": []
        },
        {
          "output_type": "stream",
          "name": "stdout",
          "text": [
            "Epoch: 4 | Train Loss: 0.133 | Train Accuracy: 0.956 | Val Loss: 0.455 | Val Accuracy: 0.873\n"
          ]
        },
        {
          "output_type": "stream",
          "name": "stderr",
          "text": []
        },
        {
          "output_type": "stream",
          "name": "stdout",
          "text": [
            "Epoch: 5 | Train Loss: 0.137 | Train Accuracy: 0.956 | Val Loss: 0.510 | Val Accuracy: 0.843\n",
            "Best parameters: {'learning_rate': 1e-05, 'dropout': 0.1} with validation loss: 0.2654\n"
          ]
        }
      ]
    },
    {
      "cell_type": "code",
      "source": [
        "Best parameters: {'learning_rate': 1e-05, 'dropout': 0.1} with validation loss: 0.2654"
      ],
      "metadata": {
        "id": "4bFRQDg1OSkk"
      },
      "execution_count": null,
      "outputs": []
    }
  ]
}