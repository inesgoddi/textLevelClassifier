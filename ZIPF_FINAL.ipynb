{
  "nbformat": 4,
  "nbformat_minor": 0,
  "metadata": {
    "colab": {
      "provenance": []
    },
    "kernelspec": {
      "name": "python3",
      "display_name": "Python 3"
    },
    "language_info": {
      "name": "python"
    }
  },
  "cells": [
    {
      "cell_type": "code",
      "execution_count": 1,
      "metadata": {
        "colab": {
          "base_uri": "https://localhost:8080/"
        },
        "id": "f2YuuKiAnq36",
        "outputId": "2026f061-c88b-44f5-b11a-640af6d89ba1"
      },
      "outputs": [
        {
          "output_type": "stream",
          "name": "stdout",
          "text": [
            "Requirement already satisfied: nltk in /usr/local/lib/python3.10/dist-packages (3.9.1)\n",
            "Requirement already satisfied: click in /usr/local/lib/python3.10/dist-packages (from nltk) (8.1.7)\n",
            "Requirement already satisfied: joblib in /usr/local/lib/python3.10/dist-packages (from nltk) (1.4.2)\n",
            "Requirement already satisfied: regex>=2021.8.3 in /usr/local/lib/python3.10/dist-packages (from nltk) (2024.9.11)\n",
            "Requirement already satisfied: tqdm in /usr/local/lib/python3.10/dist-packages (from nltk) (4.66.6)\n",
            "Requirement already satisfied: nltk in /usr/local/lib/python3.10/dist-packages (3.9.1)\n",
            "Requirement already satisfied: matplotlib in /usr/local/lib/python3.10/dist-packages (3.8.0)\n",
            "Requirement already satisfied: click in /usr/local/lib/python3.10/dist-packages (from nltk) (8.1.7)\n",
            "Requirement already satisfied: joblib in /usr/local/lib/python3.10/dist-packages (from nltk) (1.4.2)\n",
            "Requirement already satisfied: regex>=2021.8.3 in /usr/local/lib/python3.10/dist-packages (from nltk) (2024.9.11)\n",
            "Requirement already satisfied: tqdm in /usr/local/lib/python3.10/dist-packages (from nltk) (4.66.6)\n",
            "Requirement already satisfied: contourpy>=1.0.1 in /usr/local/lib/python3.10/dist-packages (from matplotlib) (1.3.0)\n",
            "Requirement already satisfied: cycler>=0.10 in /usr/local/lib/python3.10/dist-packages (from matplotlib) (0.12.1)\n",
            "Requirement already satisfied: fonttools>=4.22.0 in /usr/local/lib/python3.10/dist-packages (from matplotlib) (4.54.1)\n",
            "Requirement already satisfied: kiwisolver>=1.0.1 in /usr/local/lib/python3.10/dist-packages (from matplotlib) (1.4.7)\n",
            "Requirement already satisfied: numpy<2,>=1.21 in /usr/local/lib/python3.10/dist-packages (from matplotlib) (1.26.4)\n",
            "Requirement already satisfied: packaging>=20.0 in /usr/local/lib/python3.10/dist-packages (from matplotlib) (24.2)\n",
            "Requirement already satisfied: pillow>=6.2.0 in /usr/local/lib/python3.10/dist-packages (from matplotlib) (11.0.0)\n",
            "Requirement already satisfied: pyparsing>=2.3.1 in /usr/local/lib/python3.10/dist-packages (from matplotlib) (3.2.0)\n",
            "Requirement already satisfied: python-dateutil>=2.7 in /usr/local/lib/python3.10/dist-packages (from matplotlib) (2.8.2)\n",
            "Requirement already satisfied: six>=1.5 in /usr/local/lib/python3.10/dist-packages (from python-dateutil>=2.7->matplotlib) (1.16.0)\n",
            "3\n"
          ]
        }
      ],
      "source": [
        "from sklearn.model_selection import train_test_split\n",
        "import pandas as pd\n",
        "import numpy as np\n",
        "!pip install nltk\n",
        "!pip install nltk matplotlib\n",
        "\n",
        "# Read the first Excel file into a pandas DataFrame\n",
        "file1 = \"animation_simple_wikipedia_articles.xlsx\"\n",
        "df1 = pd.read_excel(file1)\n",
        "df1['label'] = 0\n",
        "\n",
        "# Read the second Excel file into a pandas DataFrame\n",
        "file2 = \"animation_full_wikipedia_articles.xlsx\"\n",
        "df2 = pd.read_excel(file2)\n",
        "df2['label'] = 1\n",
        "\n",
        "# Read the first Excel file into a pandas DataFrame\n",
        "file3 = \"art_simple_wikipedia_articles.xlsx\"\n",
        "df3 = pd.read_excel(file3)\n",
        "df3['label'] = 0\n",
        "\n",
        "# Read the second Excel file into a pandas DataFrame\n",
        "file4 = \"art_full_wikipedia_articles.xlsx\"\n",
        "df4 = pd.read_excel(file4)\n",
        "df4['label'] = 1\n",
        "\n",
        "# Read the first Excel file into a pandas DataFrame\n",
        "file5 = \"engineering_simple_wikipedia_articles.xlsx\"\n",
        "df5 = pd.read_excel(file5)\n",
        "df5['label'] = 0\n",
        "\n",
        "# Read the second Excel file into a pandas DataFrame\n",
        "file6 = \"engineering_full_wikipedia_articles.xlsx\"\n",
        "df6 = pd.read_excel(file6)\n",
        "df6['label'] = 1\n",
        "\n",
        "# Read the first Excel file into a pandas DataFrame\n",
        "file7 = \"weather_simple_wikipedia_articles.xlsx\"\n",
        "df7 = pd.read_excel(file7)\n",
        "df7['label'] = 0\n",
        "\n",
        "# Read the second Excel file into a pandas DataFrame\n",
        "file8 = \"weather_full_wikipedia_articles.xlsx\"\n",
        "df8 = pd.read_excel(file8)\n",
        "df8['label'] = 1\n",
        "\n",
        "# Read the first Excel file into a pandas DataFrame\n",
        "file9 = \"medicine_simple_wikipedia_articles.xlsx\"\n",
        "df9 = pd.read_excel(file9)\n",
        "df9['label'] = 0\n",
        "\n",
        "# Read the second Excel file into a pandas DataFrame\n",
        "file10 = \"medicine_full_wikipedia_articles.xlsx\"\n",
        "df10 = pd.read_excel(file10)\n",
        "df10['label'] = 1\n",
        "\n",
        "# Read the first Excel file into a pandas DataFrame\n",
        "file11 = \"wood_simple_wikipedia_articles.xlsx\"\n",
        "df11 = pd.read_excel(file11)\n",
        "df11['label'] = 0\n",
        "\n",
        "# Read the second Excel file into a pandas DataFrame\n",
        "file12 = \"wood_full_wikipedia_articles.xlsx\"\n",
        "df12 = pd.read_excel(file12)\n",
        "df12['label'] = 1\n",
        "\n",
        "# Read the first Excel file into a pandas DataFrame\n",
        "file13 = \"tourism_simple_wikipedia_articles.xlsx\"\n",
        "df13 = pd.read_excel(file13)\n",
        "df13['label'] = 0\n",
        "\n",
        "# Read the second Excel file into a pandas DataFrame\n",
        "file14 = \"tourism_full_wikipedia_articles.xlsx\"\n",
        "df14 = pd.read_excel(file14)\n",
        "df14['label'] = 1\n",
        "\n",
        "# Read the first Excel file into a pandas DataFrame\n",
        "file15 = \"fire_simple_wikipedia_articles.xlsx\"\n",
        "df15 = pd.read_excel(file15)\n",
        "df15['label'] = 0\n",
        "\n",
        "# Read the second Excel file into a pandas DataFrame\n",
        "file16 = \"fire_full_wikipedia_articles.xlsx\"\n",
        "df16 = pd.read_excel(file16)\n",
        "df16['label'] = 1\n",
        "\n",
        "# Read the first Excel file into a pandas DataFrame\n",
        "file17 = \"money_simple_wikipedia_articles.xlsx\"\n",
        "df17 = pd.read_excel(file17)\n",
        "df17['label'] = 0\n",
        "\n",
        "# Read the second Excel file into a pandas DataFrame\n",
        "file18 = \"money_full_wikipedia_articles.xlsx\"\n",
        "df18 = pd.read_excel(file18)\n",
        "df18['label'] = 1\n",
        "\n",
        "# Read the first Excel file into a pandas DataFrame\n",
        "file19 = \"sculpture_simple_wikipedia_articles.xlsx\"\n",
        "df19 = pd.read_excel(file19)\n",
        "df19['label'] = 0\n",
        "\n",
        "# Read the second Excel file into a pandas DataFrame\n",
        "file20 = \"sculpture_full_wikipedia_articles.xlsx\"\n",
        "df20 = pd.read_excel(file20)\n",
        "df20['label'] = 1\n",
        "\n",
        "# Read the first Excel file into a pandas DataFrame\n",
        "file21 = \"astronomy_simple_wikipedia_articles.xlsx\"\n",
        "df21 = pd.read_excel(file21)\n",
        "df21['label'] = 0\n",
        "\n",
        "# Read the second Excel file into a pandas DataFrame\n",
        "file22 = \"astronomy_full_wikipedia_articles.xlsx\"\n",
        "df22 = pd.read_excel(file22)\n",
        "df22['label'] = 1\n",
        "\n",
        "# Read the first Excel file into a pandas DataFrame\n",
        "file23 = \"theology_simple_wikipedia_articles.xlsx\"\n",
        "df23 = pd.read_excel(file23)\n",
        "df23['label'] = 0\n",
        "\n",
        "# Read the second Excel file into a pandas DataFrame\n",
        "file24 = \"theology_full_wikipedia_articles.xlsx\"\n",
        "df24 = pd.read_excel(file24)\n",
        "df24['label'] = 1\n",
        "\n",
        "# Read the first Excel file into a pandas DataFrame\n",
        "file25 = \"software_simple_wikipedia_articles.xlsx\"\n",
        "df25 = pd.read_excel(file25)\n",
        "df25['label'] = 0\n",
        "\n",
        "# Read the second Excel file into a pandas DataFrame\n",
        "file26 = \"software_full_wikipedia_articles.xlsx\"\n",
        "df26 = pd.read_excel(file26)\n",
        "df26['label'] = 1\n",
        "\n",
        "\n",
        "\n",
        "# Merge or concatenate the DataFrames\n",
        "# For example, if you want to concatenate them row-wise:\n",
        "merged_df = pd.concat([df1, df2,df3,df4,df5,df6,df7,df8,df9,df10,df11,df12,df13,df14,df15,df16,df17,df18,df19,df20,df21,df22,df23,df24,df25,df26], ignore_index=True)\n",
        "\n",
        "# Define column names\n",
        "column_names = ['category', 'text','label']  # Add column names as needed\n",
        "\n",
        "# Assign column names directly to the merged DataFrame\n",
        "merged_df.columns = column_names\n",
        "df1.columns = column_names\n",
        "df2.columns = column_names\n",
        "df3.columns = column_names\n",
        "df4.columns = column_names\n",
        "\n",
        "# Print the merged DataFrame to verify the header\n",
        "print(len(merged_df.columns))\n",
        "\n"
      ]
    },
    {
      "cell_type": "code",
      "source": [
        "import pandas as pd\n",
        "import matplotlib.pyplot as plt\n",
        "from collections import Counter\n",
        "import numpy as np\n",
        "import nltk\n",
        "from nltk.stem import WordNetLemmatizer\n",
        "from nltk.corpus import stopwords\n",
        "from scipy.stats import linregress\n",
        "\n",
        "# Download the necessary resources\n",
        "nltk.download('punkt')\n",
        "nltk.download('wordnet')\n",
        "nltk.download('stopwords')\n",
        "\n",
        "# Initialize the lemmatizer and stop words\n",
        "lemmatizer = WordNetLemmatizer()\n",
        "stop_words = set(stopwords.words('english'))\n",
        "\n",
        "# Function to lemmatize and remove stop words, with NaN handling\n",
        "def preprocess_text(text):\n",
        "    if pd.isna(text):  # Check for NaN values\n",
        "        return ''\n",
        "    words = nltk.word_tokenize(text.lower())\n",
        "    lemmatized_words = [lemmatizer.lemmatize(word) for word in words if word.isalpha() and word not in stop_words]\n",
        "    return ' '.join(lemmatized_words)\n",
        "\n",
        "for label in merged_df['label'].unique():\n",
        "    # Get texts for the current label\n",
        "    texts = merged_df[merged_df['label'] == label]['text']\n",
        "    # Preprocess texts and flatten the list of tokens\n",
        "    all_tokens = []\n",
        "    for text in texts:\n",
        "        all_tokens.extend(preprocess_text(text).split())  # Split to get tokens\n",
        "\n",
        "    # Count word frequencies\n",
        "    word_freq = Counter(all_tokens)\n",
        "\n",
        "    # Sort words by frequency\n",
        "    sorted_freq = sorted(word_freq.values(), reverse=True)\n",
        "\n",
        "    # Normalize frequencies\n",
        "    total_words = sum(sorted_freq)\n",
        "    normalized_freq = [freq / total_words for freq in sorted_freq]\n",
        "\n",
        "    # Create ranks\n",
        "    ranks = np.arange(1, len(normalized_freq) + 1)\n",
        "\n",
        "    # Calculate slope using linear regression on log-transformed data\n",
        "    log_ranks = np.log(ranks)\n",
        "    log_freqs = np.log(normalized_freq)\n",
        "\n",
        "    slope, intercept, r_value, p_value, std_err = linregress(log_ranks, log_freqs)\n",
        "\n",
        "    # Print the slope\n",
        "    print(f'Slope for Label {label}: {slope}')\n",
        "\n",
        "    # Plot Zipf's curve using vertical bars\n",
        "    plt.figure(figsize=(10, 6))\n",
        "    plt.bar(ranks, normalized_freq)\n",
        "    plt.title(f'Zipf Curve for Label {label}')\n",
        "    plt.xlabel('Rank')\n",
        "    plt.ylabel('Normalized Frequency')\n",
        "    plt.xscale('log')\n",
        "    plt.yscale('log')\n",
        "    plt.xticks(ticks=ranks, labels=ranks)\n",
        "    #plt.grid(True, which=\"both\", ls=\"--\", linewidth=0.5)\n",
        "    plt.show()\n"
      ],
      "metadata": {
        "colab": {
          "base_uri": "https://localhost:8080/",
          "height": 1000
        },
        "id": "_ALty0O2zkJ7",
        "outputId": "1cf4fa22-b947-4c7f-dcc9-1631d9ea7f91"
      },
      "execution_count": null,
      "outputs": [
        {
          "output_type": "stream",
          "name": "stderr",
          "text": [
            "[nltk_data] Downloading package punkt to /root/nltk_data...\n",
            "[nltk_data]   Unzipping tokenizers/punkt.zip.\n",
            "[nltk_data] Downloading package wordnet to /root/nltk_data...\n",
            "[nltk_data] Downloading package stopwords to /root/nltk_data...\n",
            "[nltk_data]   Unzipping corpora/stopwords.zip.\n"
          ]
        },
        {
          "output_type": "stream",
          "name": "stdout",
          "text": [
            "Slope for Label 0: -1.1586078614864335\n"
          ]
        },
        {
          "output_type": "display_data",
          "data": {
            "text/plain": [
              "<Figure size 1000x600 with 1 Axes>"
            ],
            "image/png": "[encoded data removed]"
          },
          "metadata": {}
        },
        {
          "output_type": "stream",
          "name": "stdout",
          "text": [
            "Slope for Label 1: -1.2952356626628871\n"
          ]
        },
        {
          "output_type": "display_data",
          "data": {
            "text/plain": [
              "<Figure size 1000x600 with 1 Axes>"
            ],
            "image/png": "[encoded data removed]"
          },
          "metadata": {}
        }
      ]
    },
    {
      "cell_type": "code",
      "source": [
        "import pandas as pd\n",
        "import matplotlib.pyplot as plt\n",
        "from collections import Counter\n",
        "import numpy as np\n",
        "import nltk\n",
        "from nltk.stem import WordNetLemmatizer\n",
        "from nltk.corpus import stopwords\n",
        "\n",
        "# Download the necessary resources\n",
        "nltk.download('punkt')\n",
        "nltk.download('wordnet')\n",
        "nltk.download('stopwords')\n",
        "\n",
        "# Initialize the lemmatizer and stop words\n",
        "lemmatizer = WordNetLemmatizer()\n",
        "stop_words = set(stopwords.words('english'))\n",
        "\n",
        "# Function to lemmatize and remove stop words, with NaN handling\n",
        "def preprocess_text(text):\n",
        "    if pd.isna(text):  # Check for NaN values\n",
        "        return ''\n",
        "    words = nltk.word_tokenize(text.lower())\n",
        "    lemmatized_words = [lemmatizer.lemmatize(word) for word in words if word.isalpha() and word not in stop_words]\n",
        "    return ' '.join(lemmatized_words)\n",
        "\n",
        "# Apply preprocessing to the text\n",
        "merged_df['processed_text'] = merged_df['text'].apply(preprocess_text)\n",
        "\n",
        "# Combine all processed text data\n",
        "all_text = ' '.join(merged_df['processed_text'])\n",
        "\n",
        "# Count word frequencies\n",
        "word_counts = Counter(all_text.split())\n",
        "\n",
        "# Create a DataFrame from the word counts\n",
        "word_freq_df = pd.DataFrame(word_counts.items(), columns=['word', 'frequency'])\n",
        "\n",
        "# Sort by frequency\n",
        "word_freq_df = word_freq_df.sort_values(by='frequency', ascending=False).reset_index(drop=True)\n",
        "\n",
        "# Calculate total words and normalize frequency\n",
        "total_words = word_freq_df['frequency'].sum()\n",
        "word_freq_df['normalized_frequency'] = word_freq_df['frequency'] / total_words\n",
        "\n",
        "# Add rank\n",
        "word_freq_df['rank'] = np.arange(1, len(word_freq_df) + 1)\n",
        "\n",
        "# Plotting normalized word frequencies as vertical bars for the top 20 words\n",
        "plt.figure(figsize=(12, 6))\n",
        "plt.bar(word_freq_df['word'][:20], word_freq_df['normalized_frequency'][:20], color='blue')\n",
        "plt.xticks(rotation=45)\n",
        "plt.title(\"Top 20 Normalized Word Frequencies (Processed Text with NLTK)\")\n",
        "plt.xlabel('Words')\n",
        "plt.ylabel('Normalized Frequency')\n",
        "plt.grid(axis='y')\n",
        "plt.show()\n"
      ],
      "metadata": {
        "colab": {
          "base_uri": "https://localhost:8080/",
          "height": 710
        },
        "id": "cav9VV8VpFef",
        "outputId": "b6af4926-19a6-4247-b3dc-6d72fa18745d"
      },
      "execution_count": null,
      "outputs": [
        {
          "output_type": "stream",
          "name": "stderr",
          "text": [
            "[nltk_data] Downloading package punkt to /root/nltk_data...\n",
            "[nltk_data]   Package punkt is already up-to-date!\n",
            "[nltk_data] Downloading package wordnet to /root/nltk_data...\n",
            "[nltk_data]   Package wordnet is already up-to-date!\n",
            "[nltk_data] Downloading package stopwords to /root/nltk_data...\n",
            "[nltk_data]   Package stopwords is already up-to-date!\n"
          ]
        },
        {
          "output_type": "display_data",
          "data": {
            "text/plain": [
              "<Figure size 1200x600 with 1 Axes>"
            ],
            "image/png": "[encoded data removed]"
          },
          "metadata": {}
        }
      ]
    },
    {
      "cell_type": "code",
      "source": [
        "word_freq_df"
      ],
      "metadata": {
        "colab": {
          "base_uri": "https://localhost:8080/",
          "height": 424
        },
        "id": "OV9-5AqQ7HsM",
        "outputId": "108baa61-2ff5-41fa-b45c-2fa25501029f"
      },
      "execution_count": null,
      "outputs": [
        {
          "output_type": "execute_result",
          "data": {
            "text/plain": [
              "                  word  frequency  normalized_frequency   rank\n",
              "0                 also       2809              0.005866      1\n",
              "1                 used       2458              0.005133      2\n",
              "2                  art       1976              0.004126      3\n",
              "3                 wood       1870              0.003905      4\n",
              "4                 fire       1780              0.003717      5\n",
              "...                ...        ...                   ...    ...\n",
              "36354  nanofabrication          1              0.000002  36355\n",
              "36355      fabricating          1              0.000002  36356\n",
              "36356   industrialised          1              0.000002  36357\n",
              "36357           solder          1              0.000002  36358\n",
              "36358              irm          1              0.000002  36359\n",
              "\n",
              "[36359 rows x 4 columns]"
            ],
            "text/html": [
              "\n",
              "  <div id=\"df-909c456c-51b8-44fe-8e65-fdd607403936\" class=\"colab-df-container\">\n",
              "    <div>\n",
              "<style scoped>\n",
              "    .dataframe tbody tr th:only-of-type {\n",
              "        vertical-align: middle;\n",
              "    }\n",
              "\n",
              "    .dataframe tbody tr th {\n",
              "        vertical-align: top;\n",
              "    }\n",
              "\n",
              "    .dataframe thead th {\n",
              "        text-align: right;\n",
              "    }\n",
              "</style>\n",
              "<table border=\"1\" class=\"dataframe\">\n",
              "  <thead>\n",
              "    <tr style=\"text-align: right;\">\n",
              "      <th></th>\n",
              "      <th>word</th>\n",
              "      <th>frequency</th>\n",
              "      <th>normalized_frequency</th>\n",
              "      <th>rank</th>\n",
              "    </tr>\n",
              "  </thead>\n",
              "  <tbody>\n",
              "    <tr>\n",
              "      <th>0</th>\n",
              "      <td>also</td>\n",
              "      <td>2809</td>\n",
              "      <td>0.005866</td>\n",
              "      <td>1</td>\n",
              "    </tr>\n",
              "    <tr>\n",
              "      <th>1</th>\n",
              "      <td>used</td>\n",
              "      <td>2458</td>\n",
              "      <td>0.005133</td>\n",
              "      <td>2</td>\n",
              "    </tr>\n",
              "    <tr>\n",
              "      <th>2</th>\n",
              "      <td>art</td>\n",
              "      <td>1976</td>\n",
              "      <td>0.004126</td>\n",
              "      <td>3</td>\n",
              "    </tr>\n",
              "    <tr>\n",
              "      <th>3</th>\n",
              "      <td>wood</td>\n",
              "      <td>1870</td>\n",
              "      <td>0.003905</td>\n",
              "      <td>4</td>\n",
              "    </tr>\n",
              "    <tr>\n",
              "      <th>4</th>\n",
              "      <td>fire</td>\n",
              "      <td>1780</td>\n",
              "      <td>0.003717</td>\n",
              "      <td>5</td>\n",
              "    </tr>\n",
              "    <tr>\n",
              "      <th>...</th>\n",
              "      <td>...</td>\n",
              "      <td>...</td>\n",
              "      <td>...</td>\n",
              "      <td>...</td>\n",
              "    </tr>\n",
              "    <tr>\n",
              "      <th>36354</th>\n",
              "      <td>nanofabrication</td>\n",
              "      <td>1</td>\n",
              "      <td>0.000002</td>\n",
              "      <td>36355</td>\n",
              "    </tr>\n",
              "    <tr>\n",
              "      <th>36355</th>\n",
              "      <td>fabricating</td>\n",
              "      <td>1</td>\n",
              "      <td>0.000002</td>\n",
              "      <td>36356</td>\n",
              "    </tr>\n",
              "    <tr>\n",
              "      <th>36356</th>\n",
              "      <td>industrialised</td>\n",
              "      <td>1</td>\n",
              "      <td>0.000002</td>\n",
              "      <td>36357</td>\n",
              "    </tr>\n",
              "    <tr>\n",
              "      <th>36357</th>\n",
              "      <td>solder</td>\n",
              "      <td>1</td>\n",
              "      <td>0.000002</td>\n",
              "      <td>36358</td>\n",
              "    </tr>\n",
              "    <tr>\n",
              "      <th>36358</th>\n",
              "      <td>irm</td>\n",
              "      <td>1</td>\n",
              "      <td>0.000002</td>\n",
              "      <td>36359</td>\n",
              "    </tr>\n",
              "  </tbody>\n",
              "</table>\n",
              "<p>36359 rows × 4 columns</p>\n",
              "</div>\n",
              "    <div class=\"colab-df-buttons\">\n",
              "\n",
              "  <div class=\"colab-df-container\">\n",
              "    <button class=\"colab-df-convert\" onclick=\"convertToInteractive('df-909c456c-51b8-44fe-8e65-fdd607403936')\"\n",
              "            title=\"Convert this dataframe to an interactive table.\"\n",
              "            style=\"display:none;\">\n",
              "\n",
              "  <svg xmlns=\"http://www.w3.org/2000/svg\" height=\"24px\" viewBox=\"0 -960 960 960\">\n",
              "    <path d=\"M120-120v-720h720v720H120Zm60-500h600v-160H180v160Zm220 220h160v-160H400v160Zm0 220h160v-160H400v160ZM180-400h160v-160H180v160Zm440 0h160v-160H620v160ZM180-180h160v-160H180v160Zm440 0h160v-160H620v160Z\"/>\n",
              "  </svg>\n",
              "    </button>\n",
              "\n",
              "  <style>\n",
              "    .colab-df-container {\n",
              "      display:flex;\n",
              "      gap: 12px;\n",
              "    }\n",
              "\n",
              "    .colab-df-convert {\n",
              "      background-color: #E8F0FE;\n",
              "      border: none;\n",
              "      border-radius: 50%;\n",
              "      cursor: pointer;\n",
              "      display: none;\n",
              "      fill: #1967D2;\n",
              "      height: 32px;\n",
              "      padding: 0 0 0 0;\n",
              "      width: 32px;\n",
              "    }\n",
              "\n",
              "    .colab-df-convert:hover {\n",
              "      background-color: #E2EBFA;\n",
              "      box-shadow: 0px 1px 2px rgba(60, 64, 67, 0.3), 0px 1px 3px 1px rgba(60, 64, 67, 0.15);\n",
              "      fill: #174EA6;\n",
              "    }\n",
              "\n",
              "    .colab-df-buttons div {\n",
              "      margin-bottom: 4px;\n",
              "    }\n",
              "\n",
              "    [theme=dark] .colab-df-convert {\n",
              "      background-color: #3B4455;\n",
              "      fill: #D2E3FC;\n",
              "    }\n",
              "\n",
              "    [theme=dark] .colab-df-convert:hover {\n",
              "      background-color: #434B5C;\n",
              "      box-shadow: 0px 1px 3px 1px rgba(0, 0, 0, 0.15);\n",
              "      filter: drop-shadow(0px 1px 2px rgba(0, 0, 0, 0.3));\n",
              "      fill: #FFFFFF;\n",
              "    }\n",
              "  </style>\n",
              "\n",
              "    <script>\n",
              "      const buttonEl =\n",
              "        document.querySelector('#df-909c456c-51b8-44fe-8e65-fdd607403936 button.colab-df-convert');\n",
              "      buttonEl.style.display =\n",
              "        google.colab.kernel.accessAllowed ? 'block' : 'none';\n",
              "\n",
              "      async function convertToInteractive(key) {\n",
              "        const element = document.querySelector('#df-909c456c-51b8-44fe-8e65-fdd607403936');\n",
              "        const dataTable =\n",
              "          await google.colab.kernel.invokeFunction('convertToInteractive',\n",
              "                                                    [key], {});\n",
              "        if (!dataTable) return;\n",
              "\n",
              "        const docLinkHtml = 'Like what you see? Visit the ' +\n",
              "          '<a target=\"_blank\" href=https://colab.research.google.com/notebooks/data_table.ipynb>data table notebook</a>'\n",
              "          + ' to learn more about interactive tables.';\n",
              "        element.innerHTML = '';\n",
              "        dataTable['output_type'] = 'display_data';\n",
              "        await google.colab.output.renderOutput(dataTable, element);\n",
              "        const docLink = document.createElement('div');\n",
              "        docLink.innerHTML = docLinkHtml;\n",
              "        element.appendChild(docLink);\n",
              "      }\n",
              "    </script>\n",
              "  </div>\n",
              "\n",
              "\n",
              "<div id=\"df-965ddc05-39a6-467d-b1c7-797e22e1e217\">\n",
              "  <button class=\"colab-df-quickchart\" onclick=\"quickchart('df-965ddc05-39a6-467d-b1c7-797e22e1e217')\"\n",
              "            title=\"Suggest charts\"\n",
              "            style=\"display:none;\">\n",
              "\n",
              "<svg xmlns=\"http://www.w3.org/2000/svg\" height=\"24px\"viewBox=\"0 0 24 24\"\n",
              "     width=\"24px\">\n",
              "    <g>\n",
              "        <path d=\"M19 3H5c-1.1 0-2 .9-2 2v14c0 1.1.9 2 2 2h14c1.1 0 2-.9 2-2V5c0-1.1-.9-2-2-2zM9 17H7v-7h2v7zm4 0h-2V7h2v10zm4 0h-2v-4h2v4z\"/>\n",
              "    </g>\n",
              "</svg>\n",
              "  </button>\n",
              "\n",
              "<style>\n",
              "  .colab-df-quickchart {\n",
              "      --bg-color: #E8F0FE;\n",
              "      --fill-color: #1967D2;\n",
              "      --hover-bg-color: #E2EBFA;\n",
              "      --hover-fill-color: #174EA6;\n",
              "      --disabled-fill-color: #AAA;\n",
              "      --disabled-bg-color: #DDD;\n",
              "  }\n",
              "\n",
              "  [theme=dark] .colab-df-quickchart {\n",
              "      --bg-color: #3B4455;\n",
              "      --fill-color: #D2E3FC;\n",
              "      --hover-bg-color: #434B5C;\n",
              "      --hover-fill-color: #FFFFFF;\n",
              "      --disabled-bg-color: #3B4455;\n",
              "      --disabled-fill-color: #666;\n",
              "  }\n",
              "\n",
              "  .colab-df-quickchart {\n",
              "    background-color: var(--bg-color);\n",
              "    border: none;\n",
              "    border-radius: 50%;\n",
              "    cursor: pointer;\n",
              "    display: none;\n",
              "    fill: var(--fill-color);\n",
              "    height: 32px;\n",
              "    padding: 0;\n",
              "    width: 32px;\n",
              "  }\n",
              "\n",
              "  .colab-df-quickchart:hover {\n",
              "    background-color: var(--hover-bg-color);\n",
              "    box-shadow: 0 1px 2px rgba(60, 64, 67, 0.3), 0 1px 3px 1px rgba(60, 64, 67, 0.15);\n",
              "    fill: var(--button-hover-fill-color);\n",
              "  }\n",
              "\n",
              "  .colab-df-quickchart-complete:disabled,\n",
              "  .colab-df-quickchart-complete:disabled:hover {\n",
              "    background-color: var(--disabled-bg-color);\n",
              "    fill: var(--disabled-fill-color);\n",
              "    box-shadow: none;\n",
              "  }\n",
              "\n",
              "  .colab-df-spinner {\n",
              "    border: 2px solid var(--fill-color);\n",
              "    border-color: transparent;\n",
              "    border-bottom-color: var(--fill-color);\n",
              "    animation:\n",
              "      spin 1s steps(1) infinite;\n",
              "  }\n",
              "\n",
              "  @keyframes spin {\n",
              "    0% {\n",
              "      border-color: transparent;\n",
              "      border-bottom-color: var(--fill-color);\n",
              "      border-left-color: var(--fill-color);\n",
              "    }\n",
              "    20% {\n",
              "      border-color: transparent;\n",
              "      border-left-color: var(--fill-color);\n",
              "      border-top-color: var(--fill-color);\n",
              "    }\n",
              "    30% {\n",
              "      border-color: transparent;\n",
              "      border-left-color: var(--fill-color);\n",
              "      border-top-color: var(--fill-color);\n",
              "      border-right-color: var(--fill-color);\n",
              "    }\n",
              "    40% {\n",
              "      border-color: transparent;\n",
              "      border-right-color: var(--fill-color);\n",
              "      border-top-color: var(--fill-color);\n",
              "    }\n",
              "    60% {\n",
              "      border-color: transparent;\n",
              "      border-right-color: var(--fill-color);\n",
              "    }\n",
              "    80% {\n",
              "      border-color: transparent;\n",
              "      border-right-color: var(--fill-color);\n",
              "      border-bottom-color: var(--fill-color);\n",
              "    }\n",
              "    90% {\n",
              "      border-color: transparent;\n",
              "      border-bottom-color: var(--fill-color);\n",
              "    }\n",
              "  }\n",
              "</style>\n",
              "\n",
              "  <script>\n",
              "    async function quickchart(key) {\n",
              "      const quickchartButtonEl =\n",
              "        document.querySelector('#' + key + ' button');\n",
              "      quickchartButtonEl.disabled = true;  // To prevent multiple clicks.\n",
              "      quickchartButtonEl.classList.add('colab-df-spinner');\n",
              "      try {\n",
              "        const charts = await google.colab.kernel.invokeFunction(\n",
              "            'suggestCharts', [key], {});\n",
              "      } catch (error) {\n",
              "        console.error('Error during call to suggestCharts:', error);\n",
              "      }\n",
              "      quickchartButtonEl.classList.remove('colab-df-spinner');\n",
              "      quickchartButtonEl.classList.add('colab-df-quickchart-complete');\n",
              "    }\n",
              "    (() => {\n",
              "      let quickchartButtonEl =\n",
              "        document.querySelector('#df-965ddc05-39a6-467d-b1c7-797e22e1e217 button');\n",
              "      quickchartButtonEl.style.display =\n",
              "        google.colab.kernel.accessAllowed ? 'block' : 'none';\n",
              "    })();\n",
              "  </script>\n",
              "</div>\n",
              "\n",
              "  <div id=\"id_8033e65a-9de5-405d-8bde-3cac8bc9a5e1\">\n",
              "    <style>\n",
              "      .colab-df-generate {\n",
              "        background-color: #E8F0FE;\n",
              "        border: none;\n",
              "        border-radius: 50%;\n",
              "        cursor: pointer;\n",
              "        display: none;\n",
              "        fill: #1967D2;\n",
              "        height: 32px;\n",
              "        padding: 0 0 0 0;\n",
              "        width: 32px;\n",
              "      }\n",
              "\n",
              "      .colab-df-generate:hover {\n",
              "        background-color: #E2EBFA;\n",
              "        box-shadow: 0px 1px 2px rgba(60, 64, 67, 0.3), 0px 1px 3px 1px rgba(60, 64, 67, 0.15);\n",
              "        fill: #174EA6;\n",
              "      }\n",
              "\n",
              "      [theme=dark] .colab-df-generate {\n",
              "        background-color: #3B4455;\n",
              "        fill: #D2E3FC;\n",
              "      }\n",
              "\n",
              "      [theme=dark] .colab-df-generate:hover {\n",
              "        background-color: #434B5C;\n",
              "        box-shadow: 0px 1px 3px 1px rgba(0, 0, 0, 0.15);\n",
              "        filter: drop-shadow(0px 1px 2px rgba(0, 0, 0, 0.3));\n",
              "        fill: #FFFFFF;\n",
              "      }\n",
              "    </style>\n",
              "    <button class=\"colab-df-generate\" onclick=\"generateWithVariable('word_freq_df')\"\n",
              "            title=\"Generate code using this dataframe.\"\n",
              "            style=\"display:none;\">\n",
              "\n",
              "  <svg xmlns=\"http://www.w3.org/2000/svg\" height=\"24px\"viewBox=\"0 0 24 24\"\n",
              "       width=\"24px\">\n",
              "    <path d=\"M7,19H8.4L18.45,9,17,7.55,7,17.6ZM5,21V16.75L18.45,3.32a2,2,0,0,1,2.83,0l1.4,1.43a1.91,1.91,0,0,1,.58,1.4,1.91,1.91,0,0,1-.58,1.4L9.25,21ZM18.45,9,17,7.55Zm-12,3A5.31,5.31,0,0,0,4.9,8.1,5.31,5.31,0,0,0,1,6.5,5.31,5.31,0,0,0,4.9,4.9,5.31,5.31,0,0,0,6.5,1,5.31,5.31,0,0,0,8.1,4.9,5.31,5.31,0,0,0,12,6.5,5.46,5.46,0,0,0,6.5,12Z\"/>\n",
              "  </svg>\n",
              "    </button>\n",
              "    <script>\n",
              "      (() => {\n",
              "      const buttonEl =\n",
              "        document.querySelector('#id_8033e65a-9de5-405d-8bde-3cac8bc9a5e1 button.colab-df-generate');\n",
              "      buttonEl.style.display =\n",
              "        google.colab.kernel.accessAllowed ? 'block' : 'none';\n",
              "\n",
              "      buttonEl.onclick = () => {\n",
              "        google.colab.notebook.generateWithVariable('word_freq_df');\n",
              "      }\n",
              "      })();\n",
              "    </script>\n",
              "  </div>\n",
              "\n",
              "    </div>\n",
              "  </div>\n"
            ],
            "application/vnd.google.colaboratory.intrinsic+json": {
              "type": "dataframe",
              "variable_name": "word_freq_df",
              "summary": "{\n  \"name\": \"word_freq_df\",\n  \"rows\": 36359,\n  \"fields\": [\n    {\n      \"column\": \"word\",\n      \"properties\": {\n        \"dtype\": \"string\",\n        \"num_unique_values\": 36359,\n        \"samples\": [\n          \"cartoonist\",\n          \"ablaze\",\n          \"civilized\"\n        ],\n        \"semantic_type\": \"\",\n        \"description\": \"\"\n      }\n    },\n    {\n      \"column\": \"frequency\",\n      \"properties\": {\n        \"dtype\": \"number\",\n        \"std\": 57,\n        \"min\": 1,\n        \"max\": 2809,\n        \"num_unique_values\": 453,\n        \"samples\": [\n          101,\n          723,\n          92\n        ],\n        \"semantic_type\": \"\",\n        \"description\": \"\"\n      }\n    },\n    {\n      \"column\": \"normalized_frequency\",\n      \"properties\": {\n        \"dtype\": \"number\",\n        \"std\": 0.00012020061759518942,\n        \"min\": 2.0882494205107857e-06,\n        \"max\": 0.005865892622214797,\n        \"num_unique_values\": 453,\n        \"samples\": [\n          0.00021091319147158936,\n          0.0015098043310292982,\n          0.0001921189466869923\n        ],\n        \"semantic_type\": \"\",\n        \"description\": \"\"\n      }\n    },\n    {\n      \"column\": \"rank\",\n      \"properties\": {\n        \"dtype\": \"number\",\n        \"std\": 10496,\n        \"min\": 1,\n        \"max\": 36359,\n        \"num_unique_values\": 36359,\n        \"samples\": [\n          9881,\n          13977,\n          29401\n        ],\n        \"semantic_type\": \"\",\n        \"description\": \"\"\n      }\n    }\n  ]\n}"
            }
          },
          "metadata": {},
          "execution_count": 24
        }
      ]
    },
    {
      "cell_type": "markdown",
      "source": [
        "Rank based classification\n"
      ],
      "metadata": {
        "id": "N-2_XMBuDj5-"
      }
    },
    {
      "cell_type": "code",
      "source": [
        "# Function to find ranks for each preprocessed text\n",
        "def get_word_ranks(text, words_df):\n",
        "    # Tokenize the preprocessed text\n",
        "    tokens = text.split()  # You might want to use more advanced tokenization depending on your needs\n",
        "    # Get ranks for each token\n",
        "    ranks = [words_df.loc[words_df['word'] == token, 'rank'].values[0] for token in tokens if token in words_df['word'].values]\n",
        "    return ranks\n",
        "\n",
        "# Function to count ranks higher than k\n",
        "def count_higher_than_k(ranks, k):\n",
        "    return sum(rank > k for rank in ranks)\n",
        "\n",
        "def count_lower_than_k(ranks, k):\n",
        "    return sum(rank <= k for rank in ranks)\n",
        "\n",
        "k = 800"
      ],
      "metadata": {
        "id": "zj5ewVzQIoG1"
      },
      "execution_count": null,
      "outputs": []
    },
    {
      "cell_type": "code",
      "source": [
        "merged_df['ranks'] = merged_df['processed_text'].apply(lambda x: get_word_ranks(x, word_freq_df))\n"
      ],
      "metadata": {
        "id": "73T2BPzTIqtw"
      },
      "execution_count": null,
      "outputs": []
    },
    {
      "cell_type": "code",
      "source": [
        "# Apply the function to count ranks higher than k\n",
        "merged_df['count_higher_than_k'] = merged_df['ranks'].apply(lambda x: count_higher_than_k(x, k))\n",
        "merged_df['count_lower_than_k'] = merged_df['ranks'].apply(lambda x: count_lower_than_k(x, k))\n"
      ],
      "metadata": {
        "id": "7MejrcS9JC2_"
      },
      "execution_count": null,
      "outputs": []
    },
    {
      "cell_type": "code",
      "source": [
        "count = 0\n",
        "\n",
        "expert = 0\n",
        "expert_pred = 0\n",
        "for index, row in merged_df.iterrows():\n",
        "    if row['label'] == 1 :\n",
        "      expert+=1\n",
        "      if row['count_higher_than_k'] >= row['count_lower_than_k']:\n",
        "        expert_pred+=1\n",
        "        count += 1\n",
        "\n",
        "\n",
        "beginner = 0\n",
        "beginner_pred = 0\n",
        "# Display the result\n",
        "for index, row in merged_df.iterrows():\n",
        "    if row['label'] == 0 :\n",
        "      beginner+=1\n",
        "      if row['count_higher_than_k'] <= row['count_lower_than_k']:\n",
        "        beginner_pred+=1\n",
        "        count += 1\n",
        "\n",
        "print(\"count :\")\n",
        "print(count/(beginner+expert))\n",
        "\n",
        "print(\"\\n\")\n",
        "#print(beginner)\n",
        "print(\"beginner predictions : \")\n",
        "print(beginner_pred/beginner)\n",
        "print(\"\\n\")\n",
        "print(\"expert predictions :\")\n",
        "print(expert_pred/expert)"
      ],
      "metadata": {
        "colab": {
          "base_uri": "https://localhost:8080/"
        },
        "id": "FDFGnWEtI2BZ",
        "outputId": "52d95b31-d056-4d96-b97e-c914281c6bc9"
      },
      "execution_count": null,
      "outputs": [
        {
          "output_type": "stream",
          "name": "stdout",
          "text": [
            "count :\n",
            "0.6174496644295302\n",
            "\n",
            "\n",
            "beginner predictions : \n",
            "0.5811138014527845\n",
            "\n",
            "\n",
            "expert predictions :\n",
            "0.6757281553398058\n"
          ]
        }
      ]
    },
    {
      "cell_type": "markdown",
      "source": [
        "Cumulative distribution of beginner texts vs expert texts"
      ],
      "metadata": {
        "id": "G03Y_fcjcuth"
      }
    },
    {
      "cell_type": "code",
      "source": [
        "train_df, val_df, test_df = np.split(merged_df.sample(frac=1, random_state=42),\n",
        "                                     [int(.8*len(merged_df)), int(.9*len(merged_df))])"
      ],
      "metadata": {
        "colab": {
          "base_uri": "https://localhost:8080/"
        },
        "id": "7Ai8hCFZilI8",
        "outputId": "27816152-9a62-4b6f-b014-7ac6a6688b8b"
      },
      "execution_count": 2,
      "outputs": [
        {
          "output_type": "stream",
          "name": "stderr",
          "text": [
            "/usr/local/lib/python3.10/dist-packages/numpy/core/fromnumeric.py:59: FutureWarning: 'DataFrame.swapaxes' is deprecated and will be removed in a future version. Please use 'DataFrame.transpose' instead.\n",
            "  return bound(*args, **kwds)\n"
          ]
        }
      ]
    },
    {
      "cell_type": "code",
      "source": [
        "import pandas as pd\n",
        "import numpy as np\n",
        "import string\n",
        "from sklearn.feature_extraction.text import CountVectorizer\n",
        "from sklearn.feature_extraction.text import ENGLISH_STOP_WORDS  # Correct import for stopwords\n",
        "from nltk.stem import PorterStemmer  # Importing the stemmer from nltk\n",
        "\n",
        "# Example DataFrame\n",
        "df = train_df\n",
        "\n",
        "# Step 1: Preprocess text (convert to lowercase, remove punctuation, stop words, and apply stemming)\n",
        "# Replace NaN values with empty strings\n",
        "df['text'] = df['text'].fillna('')\n",
        "\n",
        "# Initialize the stemmer\n",
        "stemmer = PorterStemmer()\n",
        "\n",
        "# Function to clean text: convert to lowercase, remove punctuation, remove stop words, and apply stemming\n",
        "def preprocess_text(text):\n",
        "    # Convert to lowercase\n",
        "    text = str(text).lower()\n",
        "\n",
        "    # Remove punctuation\n",
        "    text = text.translate(str.maketrans('', '', string.punctuation))\n",
        "\n",
        "    # Remove stop words\n",
        "    words = text.split()\n",
        "    words = [word for word in words if word not in ENGLISH_STOP_WORDS]\n",
        "\n",
        "    # Apply stemming to each word\n",
        "    words = [stemmer.stem(word) for word in words]\n",
        "\n",
        "    # Return cleaned and stemmed text\n",
        "    return ' '.join(words)\n",
        "\n",
        "# Apply the preprocessing function to the 'text' column\n",
        "df['text'] = df['text'].apply(preprocess_text)\n",
        "\n",
        "# Step 2: Tokenize and count word frequencies in the corpus\n",
        "vectorizer = CountVectorizer()\n",
        "X = vectorizer.fit_transform(df['text'])\n",
        "\n",
        "# Get word frequencies in the entire corpus\n",
        "word_freq = np.array(X.sum(axis=0)).flatten()\n",
        "#word_ranks = np.argsort(word_freq)[::-1]  # Sort words based on frequency (descending order)\n",
        "word_rank_dict = {word: rank for rank, word in enumerate(vectorizer.get_feature_names_out())}\n",
        "\n",
        "# Step 3: Calculate the Cumulative Probability Mass (CDF) for each text\n",
        "def calculate_cdf(text, s=1.5):\n",
        "    words = text.split()\n",
        "    ranks = [word_rank_dict[word] for word in words if word in word_rank_dict]\n",
        "    ranks = np.array(ranks) + 1  # Convert ranks to 1-based (e.g., most common word is rank 1)\n",
        "\n",
        "    # Calculate the cumulative probability mass\n",
        "    cdf = np.sum(1 / (ranks ** s)) / np.sum(1 / (np.arange(1, len(word_freq) + 1) ** s))\n",
        "\n",
        "    return cdf\n",
        "\n",
        "# Apply CDF calculation to each text\n",
        "df['cdf'] = df['text'].apply(calculate_cdf)\n",
        "\n",
        "# Step 4: Set a threshold for classification\n",
        "threshold = np.median(df['cdf'])  # Use the median CDF as a threshold (or adjust as needed)\n",
        "\n",
        "print(f\"Threshold for Classification: {threshold}\")\n",
        "'''\n",
        "# Step 5: Classify texts based on the threshold\n",
        "df['predicted_label'] = df['cdf'].apply(lambda x: 1 if x > threshold else 0)\n",
        "\n",
        "# Display the results\n",
        "print(df[['text', 'label', 'cdf', 'predicted_label']])\n",
        "'''\n"
      ],
      "metadata": {
        "colab": {
          "base_uri": "https://localhost:8080/",
          "height": 86
        },
        "id": "WZVm37uFfHJQ",
        "outputId": "50deb5fb-7a27-416a-a964-f44368912c05"
      },
      "execution_count": 3,
      "outputs": [
        {
          "output_type": "stream",
          "name": "stdout",
          "text": [
            "Threshold for Classification: 8.677872069313366e-05\n"
          ]
        },
        {
          "output_type": "execute_result",
          "data": {
            "text/plain": [
              "\"\\n# Step 5: Classify texts based on the threshold\\ndf['predicted_label'] = df['cdf'].apply(lambda x: 1 if x > threshold else 0)\\n\\n# Display the results\\nprint(df[['text', 'label', 'cdf', 'predicted_label']])\\n\""
            ],
            "application/vnd.google.colaboratory.intrinsic+json": {
              "type": "string"
            }
          },
          "metadata": {},
          "execution_count": 3
        }
      ]
    },
    {
      "cell_type": "markdown",
      "source": [
        "classification on full dataset"
      ],
      "metadata": {
        "id": "D010kibNEAjO"
      }
    },
    {
      "cell_type": "code",
      "source": [
        "expert_count = 0\n",
        "\n",
        "beginner_count = 0\n",
        "for index, row in df.iterrows():\n",
        "    if row['label'] == 1 :\n",
        "      if row['predicted_label'] == 1:\n",
        "\n",
        "        expert_count+=1\n",
        "    if row['label'] == 0 :\n",
        "      if row['predicted_label'] == 0:\n",
        "\n",
        "        beginner_count+=1\n",
        "\n",
        "print(expert_count/len(df[df['label'] == 1]))\n",
        "print(beginner_count/len(df[df['label'] == 0]))\n",
        "\n",
        "correct_predictions = 0\n",
        "for index, row in df.iterrows():\n",
        "    if row['label'] == row['predicted_label']:\n",
        "        correct_predictions += 1\n",
        "\n",
        "accuracy = correct_predictions / len(df)\n",
        "print(f\"Overall Accuracy: {accuracy}\")"
      ],
      "metadata": {
        "colab": {
          "base_uri": "https://localhost:8080/"
        },
        "id": "abYd202CBjQl",
        "outputId": "0506ed3a-d53c-4e78-ce7a-1835f41a21b3"
      },
      "execution_count": null,
      "outputs": [
        {
          "output_type": "stream",
          "name": "stdout",
          "text": [
            "0.7535885167464115\n",
            "0.7614678899082569\n",
            "Overall Accuracy: 0.7583955223880597\n"
          ]
        }
      ]
    },
    {
      "cell_type": "markdown",
      "source": [
        "classification on test dataset\n"
      ],
      "metadata": {
        "id": "J6mJ97eqEEji"
      }
    },
    {
      "cell_type": "code",
      "source": [
        "# Apply CDF calculation to each text\n",
        "test_df['cdf'] = test_df['text'].apply(calculate_cdf)\n",
        "\n",
        "\n",
        "# Step 5: Classify texts based on the threshold\n",
        "test_df['predicted_label'] = test_df['cdf'].apply(lambda x: 1 if x >= threshold else 0)\n",
        "\n",
        "expert_count = 0\n",
        "\n",
        "beginner_count = 0\n",
        "for index, row in test_df.iterrows():\n",
        "    if row['label'] == 1 :\n",
        "      if row['predicted_label'] == 1:\n",
        "\n",
        "        expert_count+=1\n",
        "    if row['label'] == 0 :\n",
        "      if row['predicted_label'] == 0:\n",
        "\n",
        "        beginner_count+=1\n",
        "\n",
        "print(expert_count/len(test_df[test_df['label'] == 1]))\n",
        "print(beginner_count/len(test_df[test_df['label'] == 0]))\n",
        "\n",
        "correct_predictions = 0\n",
        "for index, row in test_df.iterrows():\n",
        "    if row['label'] == row['predicted_label']:\n",
        "        correct_predictions += 1\n",
        "\n",
        "accuracy = correct_predictions / len(test_df)\n",
        "print(f\"Overall Accuracy: {accuracy}\")"
      ],
      "metadata": {
        "colab": {
          "base_uri": "https://localhost:8080/"
        },
        "id": "z28UhqA9jJTy",
        "outputId": "83f8e4b5-5e01-4cda-a71e-9b390f85303f"
      },
      "execution_count": 7,
      "outputs": [
        {
          "output_type": "stream",
          "name": "stdout",
          "text": [
            "0.673469387755102\n",
            "0.8255813953488372\n",
            "Overall Accuracy: 0.7703703703703704\n"
          ]
        }
      ]
    },
    {
      "cell_type": "code",
      "source": [
        "# Apply CDF calculation to each text\n",
        "test_df['cdf'] = test_df['text'].apply(calculate_cdf)\n",
        "\n",
        "\n",
        "# Step 5: Classify texts based on the threshold\n",
        "test_df['predicted_label'] = test_df['cdf'].apply(lambda x: 1 if x >= 0.00011700254633121611 else 0)\n",
        "\n",
        "expert_count = 0\n",
        "\n",
        "beginner_count = 0\n",
        "for index, row in test_df.iterrows():\n",
        "    if row['label'] == 1 :\n",
        "      if row['predicted_label'] == 1:\n",
        "\n",
        "        expert_count+=1\n",
        "    if row['label'] == 0 :\n",
        "      if row['predicted_label'] == 0:\n",
        "\n",
        "        beginner_count+=1\n",
        "\n",
        "print(expert_count/len(test_df[test_df['label'] == 1]))\n",
        "print(beginner_count/len(test_df[test_df['label'] == 0]))\n",
        "\n",
        "correct_predictions = 0\n",
        "for index, row in test_df.iterrows():\n",
        "    if row['label'] == row['predicted_label']:\n",
        "        correct_predictions += 1\n",
        "\n",
        "accuracy = correct_predictions / len(test_df)\n",
        "print(f\"Overall Accuracy: {accuracy}\")"
      ],
      "metadata": {
        "colab": {
          "base_uri": "https://localhost:8080/"
        },
        "id": "svI4Zc6iEVI-",
        "outputId": "63ed5e72-eedb-469b-9333-410779809316"
      },
      "execution_count": 9,
      "outputs": [
        {
          "output_type": "stream",
          "name": "stdout",
          "text": [
            "0.4489795918367347\n",
            "0.872093023255814\n",
            "Overall Accuracy: 0.7185185185185186\n"
          ]
        }
      ]
    },
    {
      "cell_type": "code",
      "source": [
        "from sklearn.metrics import roc_auc_score, roc_curve\n",
        "import matplotlib.pyplot as plt  # Importing matplotlib.pyplot\n",
        "\n",
        "# Step 1: Compute FPR, TPR, and thresholds using roc_curve\n",
        "fpr, tpr, thresholds = roc_curve(df['label'], df['cdf'])\n",
        "\n",
        "# Step 2: Calculate the Euclidean distance from each point on the ROC curve to the top-left corner (0, 1)\n",
        "# The distance formula is: sqrt((FPR - 0)^2 + (TPR - 1)^2)\n",
        "distances = np.sqrt((fpr - 0)**2 + (tpr - 1)**2)\n",
        "\n",
        "# Step 3: Find the index of the minimum distance (i.e., the best threshold)\n",
        "best_threshold_index = np.argmin(distances)\n",
        "best_threshold = thresholds[best_threshold_index]\n",
        "\n",
        "# Step 4: Print the best threshold\n",
        "print(f\"Best Threshold: {best_threshold}\")\n",
        "\n",
        "# Optionally, plot the ROC curve and mark the best threshold\n",
        "plt.figure(figsize=(6, 6))\n",
        "plt.plot(fpr, tpr, label='ROC curve')\n",
        "plt.scatter(fpr[best_threshold_index], tpr[best_threshold_index], color='red', marker='o', label=f'Best Threshold = {best_threshold:.2f}')\n",
        "plt.plot([0, 1], [0, 1], linestyle='--', color='gray')  # Diagonal line (random classifier)\n",
        "plt.xlabel('False Positive Rate')\n",
        "plt.ylabel('True Positive Rate')"
      ],
      "metadata": {
        "colab": {
          "base_uri": "https://localhost:8080/",
          "height": 586
        },
        "id": "BUuPEyUhcRaA",
        "outputId": "4cf64ee8-42f7-47fa-b19f-5d15181ae047"
      },
      "execution_count": 8,
      "outputs": [
        {
          "output_type": "stream",
          "name": "stdout",
          "text": [
            "Best Threshold: 0.00011700254633121611\n"
          ]
        },
        {
          "output_type": "execute_result",
          "data": {
            "text/plain": [
              "Text(0, 0.5, 'True Positive Rate')"
            ]
          },
          "metadata": {},
          "execution_count": 8
        },
        {
          "output_type": "display_data",
          "data": {
            "text/plain": [
              "<Figure size 600x600 with 1 Axes>"
            ],
            "image/png": "[encoded data removed]"
          },
          "metadata": {}
        }
      ]
    },
    {
      "cell_type": "markdown",
      "source": [
        "some test code"
      ],
      "metadata": {
        "id": "4WTgfbxTEdCE"
      }
    },
    {
      "cell_type": "code",
      "source": [
        "import numpy as np\n",
        "import pandas as pd\n",
        "from sklearn.feature_extraction.text import CountVectorizer\n",
        "from sklearn.metrics import roc_auc_score,roc_curve\n",
        "from sklearn.model_selection import train_test_split\n",
        "\n",
        "# Example DataFrame (replace with your actual data)\n",
        "df = merged_df\n",
        "\n",
        "# Preprocess text (convert to lowercase)\n",
        "df['text'] = df['text'].fillna('')  # Replace NaN values with empty strings\n",
        "df['text'] = df['text'].apply(lambda x: str(x).lower())  # Convert to lowercase\n",
        "\n",
        "# Step 1: Tokenize and count word frequencies in the corpus\n",
        "vectorizer = CountVectorizer()\n",
        "X = vectorizer.fit_transform(df['text'])\n",
        "\n",
        "# Get word frequencies in the entire corpus\n",
        "word_freq = np.array(X.sum(axis=0)).flatten()\n",
        "#word_ranks = np.argsort(word_freq)[::-1]  # Sort words based on frequency (descending order)\n",
        "word_rank_dict = {word: rank for rank, word in enumerate(vectorizer.get_feature_names_out())}\n",
        "\n",
        "# Step 2: Calculate the Cumulative Probability Mass (CDF) for each text\n",
        "def calculate_cdf(text, s=1.5):\n",
        "    words = text.split()\n",
        "    ranks = [word_rank_dict[word] for word in words if word in word_rank_dict]\n",
        "    ranks = np.array(ranks) + 1  # Convert ranks to 1-based (e.g., most common word is rank 1)\n",
        "\n",
        "    # Calculate the cumulative probability mass\n",
        "    cdf = np.sum(1 / (ranks ** s)) / np.sum(1 / (np.arange(1, len(word_freq) + 1) ** s))\n",
        "\n",
        "    return cdf\n",
        "\n",
        "# Apply CDF calculation to each text\n",
        "df['cdf'] = df['text'].apply(calculate_cdf)\n"
      ],
      "metadata": {
        "id": "WojQUQUTT5e1"
      },
      "execution_count": null,
      "outputs": []
    },
    {
      "cell_type": "code",
      "source": [
        "# Example: Assuming the 'label' column represents the ground truth (1 for rare-word-heavy, 0 for common-word-heavy)\n",
        "X_cdf = df['cdf'].values  # CDF values as feature\n",
        "y = df['label'].values  # Actual labels\n",
        "\n",
        "# Split the data into training and test sets\n",
        "X_train, X_test, y_train, y_test = train_test_split(X_cdf, y, test_size=0.2, random_state=42)\n"
      ],
      "metadata": {
        "id": "BqXyuue2SqEO"
      },
      "execution_count": null,
      "outputs": []
    },
    {
      "cell_type": "code",
      "source": [
        "from sklearn.metrics import roc_auc_score\n",
        "\n",
        "# Since we are using CDF values directly, we can treat them as probabilities\n",
        "# Predict probabilities (for the sake of this example, we're using the raw CDF values as predicted scores)\n",
        "y_pred = X_cdf  # Using CDF as predicted values\n",
        "\n",
        "# Compute AUC (Area Under the ROC Curve)\n",
        "auc_score = roc_auc_score(y, y_pred)\n",
        "print(f\"AUC Score: {auc_score}\")\n"
      ],
      "metadata": {
        "colab": {
          "base_uri": "https://localhost:8080/"
        },
        "id": "KvbAgt5HSskB",
        "outputId": "de7ddb85-0c9f-40f8-8dfe-a29bb69cffc9"
      },
      "execution_count": null,
      "outputs": [
        {
          "output_type": "stream",
          "name": "stdout",
          "text": [
            "AUC Score: 0.8162885822421778\n"
          ]
        }
      ]
    }
  ]
}